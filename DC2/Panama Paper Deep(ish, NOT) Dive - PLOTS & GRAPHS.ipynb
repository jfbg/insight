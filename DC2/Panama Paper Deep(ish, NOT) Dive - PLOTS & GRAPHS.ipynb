{
 "cells": [
  {
   "cell_type": "markdown",
   "metadata": {},
   "source": [
    "## Data Challenge 2"
   ]
  },
  {
   "cell_type": "markdown",
   "metadata": {},
   "source": [
    "### Remarks / Insights\n",
    "\n",
    "Based on my recently calculate Fiscal Paradise Index (FPI), the top 20 countries ranking worst as Fiscal Paradises are:\n",
    "\n",
    "* Anguilla\n",
    "* Marshall Islands\n",
    "* British Virgin Islands\n",
    "* Samoa\n",
    "* U.S. Virgin Islands\n",
    "* Saint Vincent and the Grenadines\n",
    "* Liberia\n",
    "* Niue\n",
    "* Belize\n",
    "* Bermuda\n",
    "* Turks and Caicos Islands\n",
    "* Guernsey\n",
    "* Jersey\n",
    "* Bahamas\n",
    "* Gibraltar\n",
    "* Cayman Islands\n",
    "* Seychelles\n",
    "* Cook Islands\n",
    "* Isle of Man\n",
    "* Saint Lucia\n",
    "\n"
   ]
  },
  {
   "cell_type": "code",
   "execution_count": 103,
   "metadata": {
    "collapsed": false
   },
   "outputs": [
    {
     "name": "stdout",
     "output_type": "stream",
     "text": [
      "The sql extension is already loaded. To reload it, use:\n",
      "  %reload_ext sql\n"
     ]
    }
   ],
   "source": [
    "import warnings\n",
    "warnings.filterwarnings('ignore')\n",
    "\n",
    "# Add this to python2 code to make life easier\n",
    "from __future__ import absolute_import, division, print_function\n",
    "\n",
    "import pandas as pd\n",
    "from sqlalchemy import create_engine\n",
    "from sqlalchemy_utils import database_exists, create_database\n",
    "import psycopg2\n",
    "import seaborn as sns\n",
    "import matplotlib.pyplot as plt\n",
    "import matplotlib.ticker as ticker\n",
    "import mpld3\n",
    "import numpy as np\n",
    "import matplotlib.dates as mdates\n",
    "import matplotlib.mlab as mlab\n",
    "import matplotlib.pyplot as plt\n",
    "\n",
    "import plotly.plotly as py\n",
    "import plotly.graph_objs as go\n",
    "\n",
    "import qgrid \n",
    "qgrid.nbinstall(overwrite=True)\n",
    "\n",
    "from IPython.display import display, display_pretty, Javascript, HTML\n",
    "# from pandas_highcharts.core import serialize\n",
    "from pandas_highcharts.display import display_charts\n",
    "\n",
    "# %qtconsole\n",
    "\n",
    "\n",
    "# !python -m pip install ipython-sql\n",
    "%load_ext sql\n",
    "%config SqlMagic.autopandas=True\n",
    "%matplotlib inline\n",
    "\n",
    "sns.set_context('talk')\n",
    "sns.set_style('darkgrid') \n",
    "plt.rcParams['figure.figsize'] = 12, 6  # plotsize "
   ]
  },
  {
   "cell_type": "code",
   "execution_count": 5,
   "metadata": {
    "collapsed": false
   },
   "outputs": [
    {
     "data": {
      "text/plain": [
       "u'Connected: JFBG@panama'"
      ]
     },
     "execution_count": 5,
     "metadata": {},
     "output_type": "execute_result"
    }
   ],
   "source": [
    "# Connect to SQL databse\n",
    "%sql postgresql://JFBG@localhost/panama"
   ]
  },
  {
   "cell_type": "markdown",
   "metadata": {},
   "source": [
    "### Look at total number of involved parties"
   ]
  },
  {
   "cell_type": "code",
   "execution_count": 24,
   "metadata": {
    "collapsed": false
   },
   "outputs": [
    {
     "name": "stdout",
     "output_type": "stream",
     "text": [
      "1 rows affected.\n",
      "1 rows affected.\n",
      "1 rows affected.\n"
     ]
    },
    {
     "data": {
      "text/plain": [
       "<matplotlib.text.Text at 0x1119c5f50>"
      ]
     },
     "execution_count": 24,
     "metadata": {},
     "output_type": "execute_result"
    },
    {
     "data": {
      "text/plain": [
       "<matplotlib.figure.Figure at 0x1119d33d0>"
      ]
     },
     "metadata": {},
     "output_type": "display_data"
    },
    {
     "data": {
      "image/png": "[encoded data removed]",
      "text/plain": [
       "<matplotlib.figure.Figure at 0x111609c90>"
      ]
     },
     "metadata": {},
     "output_type": "display_data"
    }
   ],
   "source": [
    "df_count = pd.DataFrame()\n",
    "val = %sql select count(*) from intermediaries;\n",
    "df_count['intermediaries'] = val\n",
    "val = %sql select count(*) from entities;\n",
    "df_count['entities'] = val\n",
    "val = %sql select count(*) from officers;\n",
    "df_count['officers'] = val\n",
    "plt.figure()\n",
    "df_count.plot.bar()\n",
    "plt.title('Total number of parties in database')\n",
    "plt.ylabel('Count')"
   ]
  },
  {
   "cell_type": "markdown",
   "metadata": {},
   "source": [
    "### Look at distribution per country (top 100)"
   ]
  },
  {
   "cell_type": "code",
   "execution_count": 64,
   "metadata": {
    "collapsed": false
   },
   "outputs": [
    {
     "name": "stdout",
     "output_type": "stream",
     "text": [
      "10 rows affected.\n"
     ]
    },
    {
     "data": {
      "text/html": [
       "<div id=\"chart_iddBxxzFPE\"</div>\n",
       "    <script type=\"text/javascript\">new Highcharts.Chart({\"title\":{\"text\":\"Number of Entities per Country\"},\"series\":[{\"data\":[[0,38844],[1,37917],[2,37277],[3,15824],[4,14333],[5,11180],[6,10840],[7,9631],[8,8637],[9,7329]],\"name\":\"count_c\",\"yAxis\":0}],\"yAxis\":[{}],\"chart\":{\"renderTo\":\"chart_iddBxxzFPE\",\"type\":\"pie\"},\"tooltip\":{\"pointFormat\":\"{series.name}: <b>{point.percentage:.1f}%<\\/b>\"},\"xAxis\":{},\"legend\":{\"enabled\":true}});</script>"
      ],
      "text/plain": [
       "<IPython.core.display.HTML object>"
      ]
     },
     "metadata": {},
     "output_type": "display_data"
    }
   ],
   "source": [
    "maxnum = 10\n",
    "df_countries_E = %sql select countries, count(countries) count_c from entities group by countries order by count_c desc limit :maxnum;\n",
    "# df_countries_E = %sql select country_codes, count(country_codes) count_c from entities group by country_codes order by count_c desc;\n",
    "\n",
    "display_charts(df_countries_E, kind='pie', jjj=['countries'], y=['count_c'], title='Number of Entities per Country',tooltip={'pointFormat': '{series.name}: <b>{point.percentage:.1f}%</b>'})"
   ]
  },
  {
   "cell_type": "markdown",
   "metadata": {},
   "source": [
    "### Nmber of connections for each intermediaries"
   ]
  },
  {
   "cell_type": "code",
   "execution_count": null,
   "metadata": {
    "collapsed": true
   },
   "outputs": [],
   "source": [
    "#SQL query\n",
    "df_inter = %sql select n1d, country_codes, num_edge from intermediaries, (select node_1 n1d, count(node_1) num_edge from all_edges group by node_1) ss where n1d = node_id;"
   ]
  },
  {
   "cell_type": "code",
   "execution_count": 82,
   "metadata": {
    "collapsed": false
   },
   "outputs": [
    {
     "data": {
      "text/plain": [
       "<matplotlib.text.Text at 0x112482410>"
      ]
     },
     "execution_count": 82,
     "metadata": {},
     "output_type": "execute_result"
    },
    {
     "data": {
      "text/plain": [
       "<matplotlib.figure.Figure at 0x112bc9950>"
      ]
     },
     "metadata": {},
     "output_type": "display_data"
    },
    {
     "data": {
      "image/png": "[encoded data removed]",
      "text/plain": [
       "<matplotlib.figure.Figure at 0x112bbd590>"
      ]
     },
     "metadata": {},
     "output_type": "display_data"
    }
   ],
   "source": [
    "df_inter2 = pd.DataFrame(data = np.log10(df_inter['num_edge']))\n",
    "plt.figure()\n",
    "df_inter2.plot.hist()\n",
    "plt.title('Number of connections for each intermediaries')\n",
    "plt.xlabel('Log(count)')"
   ]
  },
  {
   "cell_type": "code",
   "execution_count": 74,
   "metadata": {
    "collapsed": false
   },
   "outputs": [
    {
     "name": "stderr",
     "output_type": "stream",
     "text": [
      "Widget Javascript not detected.  It may not be installed properly. Did you enable the widgetsnbextension? If not, then run \"jupyter nbextension enable --py --sys-prefix widgetsnbextension\"\n"
     ]
    }
   ],
   "source": [
    "qgrid.show_grid(df_inter2)"
   ]
  },
  {
   "cell_type": "markdown",
   "metadata": {},
   "source": [
    "```SQL\n",
    "select name, country_codes, count(name) cn \n",
    "from officers \n",
    "where name \n",
    "not like '%LIMITED%' \n",
    "and name not like '%B__RER%'\n",
    "and name not like '%??%'\n",
    "and name not like '%EBARER%'\n",
    "and name not like '%BEARE%'\n",
    "and name not like '%B__rer%'\n",
    "and name not like '%PORTADOR%'\n",
    "and name not like '%ompany%'\n",
    "and name not like '%imited%'\n",
    "and name not like '%bearer%'\n",
    "and name not like '%INC%'\n",
    "and name not like '%Inc%'\n",
    "and name not like '%LTD%'\n",
    "and name not like '%Ltd%'\n",
    "and name not like '%FOUNDATION%'\n",
    "and name not like '%Foundation%'\n",
    "and name not like '%HOLDING%'\n",
    "and name not like '%CORP%'\n",
    "and name not like '%Corp%'\n",
    "and name not like '%SERVICES%'\n",
    "and name not like '%S\\.A\\.%'\n",
    "and name not like '%Invest%'\n",
    "and name not like '%INVEST%'\n",
    "and name not like '%INTERN%'\n",
    "and name not like '%Intern%'\n",
    "and name not like '%Management%'\n",
    "and name not like '%TRUST%'\n",
    "and name not like '%Trust%'\n",
    "and name not like '%Establis%'\n",
    "and name not like '% AG'\n",
    "and name not like '% SA'\n",
    "and name not like '% Oy'\n",
    "and name not like '% OY'\n",
    "and name not like '%LLC%'\n",
    "and name is not NULL\n",
    "group by name, country_codes \n",
    "order by cn desc;\n",
    "```"
   ]
  },
  {
   "cell_type": "code",
   "execution_count": 91,
   "metadata": {
    "collapsed": false
   },
   "outputs": [
    {
     "name": "stdout",
     "output_type": "stream",
     "text": [
      "169083 rows affected.\n"
     ]
    }
   ],
   "source": [
    "df_ind = %sql select name, country_codes, count(name) cn from officers where name  not like '%LIMITED%'  and name not like '%B__RER%' and name not like '%??%' and name not like '%EBARER%' and name not like '%BEARE%' and name not like '%B__rer%' and name not like '%PORTADOR%' and name not like '%ompany%' and name not like '%imited%' and name not like '%bearer%' and name not like '%INC%' and name not like '%Inc%' and name not like '%LTD%' and name not like '%Ltd%' and name not like '%FOUNDATION%' and name not like '%Foundation%' and name not like '%HOLDING%' and name not like '%CORP%' and name not like '%Corp%' and name not like '%SERVICES%' and name not like '%S\\.A\\.%' and name not like '%Invest%' and name not like '%INVEST%' and name not like '%INTERN%' and name not like '%Intern%' and name not like '%Management%' and name not like '%TRUST%' and name not like '%Trust%' and name not like '%Establis%' and name not like '% AG' and name not like '% SA' and name not like '% Oy' and name not like '% OY' and name not like '%LLC%' and name is not NULL group by name, country_codes order by name desc;"
   ]
  },
  {
   "cell_type": "code",
   "execution_count": 100,
   "metadata": {
    "collapsed": false
   },
   "outputs": [
    {
     "data": {
      "text/plain": [
       "<bound method Series.groupby of 0          SVN\n",
       "1         None\n",
       "2         None\n",
       "3          URY\n",
       "4          COL\n",
       "5         None\n",
       "6         None\n",
       "7         None\n",
       "8          XXX\n",
       "9          XXX\n",
       "10         CHN\n",
       "11         XXX\n",
       "12         XXX\n",
       "13         XXX\n",
       "14         XXX\n",
       "15         XXX\n",
       "16         CHN\n",
       "17         TWN\n",
       "18         XXX\n",
       "19         XXX\n",
       "20         XXX\n",
       "21         TWN\n",
       "22         TWN\n",
       "23         XXX\n",
       "24         XXX\n",
       "25         USA\n",
       "26         XXX\n",
       "27         XXX\n",
       "28         TWN\n",
       "29         XXX\n",
       "          ... \n",
       "169053     XXX\n",
       "169054     ROU\n",
       "169055     XXX\n",
       "169056     CHN\n",
       "169057     CHN\n",
       "169058     CHN\n",
       "169059     MYS\n",
       "169060     SGP\n",
       "169061     XXX\n",
       "169062     RUS\n",
       "169063     NLD\n",
       "169064     XXX\n",
       "169065     CHN\n",
       "169066     RUS\n",
       "169067     XXX\n",
       "169068     CHN\n",
       "169069     XXX\n",
       "169070     PHL\n",
       "169071     TWN\n",
       "169072     HKG\n",
       "169073     XXX\n",
       "169074     SGP\n",
       "169075     TWN\n",
       "169076     SGP\n",
       "169077     CYP\n",
       "169078     CHN\n",
       "169079     IDN\n",
       "169080     XXX\n",
       "169081     IDN\n",
       "169082     XXX\n",
       "Name: country_codes, dtype: object>"
      ]
     },
     "execution_count": 100,
     "metadata": {},
     "output_type": "execute_result"
    }
   ],
   "source": [
    "# df_ind.head()\n",
    "df_ind.country_codes.groupby"
   ]
  },
  {
   "cell_type": "markdown",
   "metadata": {},
   "source": [
    "```SQL\n",
    "select B.cc, count1, count2 from \n",
    "(select cc, count(cc) count1 from \n",
    "(select name, countries cc, count(name) cn \n",
    "from officers \n",
    "where name \n",
    "not like '%LIMITED%' \n",
    "and name not like '%B__RER%'\n",
    "and name not like '%??%'\n",
    "and name not like '%EBARER%'\n",
    "and name not like '%BEARE%'\n",
    "and name not like '%B__rer%'\n",
    "and name not like '%PORTADOR%'\n",
    "and name not like '%ompany%'\n",
    "and name not like '%imited%'\n",
    "and name not like '%bearer%'\n",
    "and name not like '%INC%'\n",
    "and name not like '%Inc%'\n",
    "and name not like '%LTD%'\n",
    "and name not like '%Ltd%'\n",
    "and name not like '%FOUNDATION%'\n",
    "and name not like '%Foundation%'\n",
    "and name not like '%HOLDING%'\n",
    "and name not like '%CORP%'\n",
    "and name not like '%Corp%'\n",
    "and name not like '%SERVICES%'\n",
    "and name not like '%S\\.A\\.%'\n",
    "and name not like '%Invest%'\n",
    "and name not like '%INVEST%'\n",
    "and name not like '%INTERN%'\n",
    "and name not like '%Intern%'\n",
    "and name not like '%Management%'\n",
    "and name not like '%TRUST%'\n",
    "and name not like '%Trust%'\n",
    "and name not like '%Establis%'\n",
    "and name not like '% AG'\n",
    "and name not like '% SA'\n",
    "and name not like '% Oy'\n",
    "and name not like '% OY'\n",
    "and name not like '%LLC%'\n",
    "and name is not NULL\n",
    "and countries not like '%;%'\n",
    "group by name, cc) A\n",
    "group by cc) B,\n",
    "(select cc, count(cc) count2 from \n",
    "(select name, countries cc, count(name) cn \n",
    "from officers \n",
    "group by name, cc) C\n",
    "group by cc) D\n",
    "where D.cc = B.cc\n",
    "```"
   ]
  },
  {
   "cell_type": "code",
   "execution_count": 113,
   "metadata": {
    "collapsed": false
   },
   "outputs": [
    {
     "name": "stdout",
     "output_type": "stream",
     "text": [
      "206 rows affected.\n"
     ]
    }
   ],
   "source": [
    "df_ratio = %sql select B.cc, count1 person, count2 total from (select cc, count(cc) count1 from (select name, countries cc, count(name) cn from officers where name not like '%LIMITED%' and name not like '%B__RER%' and name not like '%??%' and name not like '%EBARER%' and name not like '%BEARE%' and name not like '%B__rer%' and name not like '%PORTADOR%' and name not like '%ompany%' and name not like '%imited%' and name not like '%bearer%' and name not like '%INC%' and name not like '%Inc%' and name not like '%LTD%' and name not like '%Ltd%' and name not like '%FOUNDATION%' and name not like '%Foundation%' and name not like '%HOLDING%' and name not like '%CORP%' and name not like '%Corp%' and name not like '%SERVICES%' and name not like '%S\\.A\\.%' and name not like '%Invest%' and name not like '%INVEST%' and name not like '%INTERN%' and name not like '%Intern%' and name not like '%Management%' and name not like '%TRUST%' and name not like '%Trust%' and name not like '%Establis%' and name not like '% AG' and name not like '% SA' and name not like '% Oy' and name not like '% OY' and name not like '%LLC%' and name is not NULL and countries not like '%;%' group by name, cc) A group by cc) B, (select cc, count(cc) count2 from (select name, countries cc, count(name) cn from officers group by name, cc) C group by cc) D where D.cc = B.cc"
   ]
  },
  {
   "cell_type": "code",
   "execution_count": 115,
   "metadata": {
    "collapsed": false
   },
   "outputs": [],
   "source": [
    "df_ratio['entity'] = df_ratio.total - df_ratio.person\n",
    "df_ratio['ratio'] = df_ratio.person/df_ratio.entity\n"
   ]
  },
  {
   "cell_type": "code",
   "execution_count": 121,
   "metadata": {
    "collapsed": false
   },
   "outputs": [
    {
     "data": {
      "text/html": [
       "<iframe id=\"igraph\" scrolling=\"no\" style=\"border:none;\" seamless=\"seamless\" src=\"https://plot.ly/~jfbg/96.embed\" height=\"525px\" width=\"100%\"></iframe>"
      ],
      "text/plain": [
       "<plotly.tools.PlotlyDisplay object>"
      ]
     },
     "execution_count": 121,
     "metadata": {},
     "output_type": "execute_result"
    }
   ],
   "source": [
    "\n",
    "l = []\n",
    "trace0= go.Scatter(\n",
    "    x= df_ratio.total,\n",
    "    y= df_ratio.person,\n",
    "    mode= 'markers',\n",
    "#     marker= dict(size= 14,\n",
    "#                 line= dict(width=1),\n",
    "#                 color= c[i],\n",
    "#                 opacity= 0.3\n",
    "#                ),name= y[i],\n",
    "    text= df_ratio.cc) # The hover text goes here... \n",
    "l.append(trace0);\n",
    "\n",
    "layout= go.Layout(\n",
    "    title= 'Real Persons versus Entities',\n",
    "    hovermode= 'closest',\n",
    "    xaxis= dict(\n",
    "        title= 'Real Person Officers',\n",
    "        ticklen= 5,\n",
    "        zeroline= False,\n",
    "        gridwidth= 2,\n",
    "    ),\n",
    "    yaxis=dict(\n",
    "        title= 'Total Number of Officers',\n",
    "        ticklen= 5,\n",
    "        gridwidth= 2,\n",
    "    ),\n",
    "    showlegend= False\n",
    ")\n",
    "fig= go.Figure(data=l, layout=layout)\n",
    "py.iplot(fig)"
   ]
  },
  {
   "cell_type": "code",
   "execution_count": 136,
   "metadata": {
    "collapsed": false
   },
   "outputs": [],
   "source": [
    "dfr2 = df_ratio.sort('ratio')\n",
    "df_ratio.replace(np.inf,np.nan)\n",
    "dfr2['indexsort'] = np.arange(1,len(dfr2)+1)"
   ]
  },
  {
   "cell_type": "code",
   "execution_count": 158,
   "metadata": {
    "collapsed": false
   },
   "outputs": [
    {
     "data": {
      "text/html": [
       "<iframe id=\"igraph\" scrolling=\"no\" style=\"border:none;\" seamless=\"seamless\" src=\"https://plot.ly/~jfbg/104.embed\" height=\"525px\" width=\"100%\"></iframe>"
      ],
      "text/plain": [
       "<plotly.tools.PlotlyDisplay object>"
      ]
     },
     "execution_count": 158,
     "metadata": {},
     "output_type": "execute_result"
    }
   ],
   "source": [
    "trace0= go.Scatter(\n",
    "    x= dfr2.indexsort,\n",
    "    y= dfr2.ratio,\n",
    "    mode= 'markers',\n",
    "#     marker= dict(size= 14,\n",
    "#                 line= dict(width=1),\n",
    "#                 color= c[i],\n",
    "#                 opacity= 0.3\n",
    "#                ),name= y[i],\n",
    "    text= dfr2.cc) # The hover text goes here... \n",
    "\n",
    "trace2 = go.Scatter(\n",
    "    x = [0,206],\n",
    "    y = [1,1],\n",
    "    mode = 'lines',\n",
    "    name = 'lines'\n",
    ")\n",
    "\n",
    "l = [trace0, trace2]\n",
    "\n",
    "layout= go.Layout(\n",
    "    title= 'Fiscal Paradise Index',\n",
    "    hovermode= 'closest',\n",
    "    yaxis= dict(\n",
    "        title= 'FPI',\n",
    "        ticklen= 5,\n",
    "#         zeroline= False,\n",
    "        gridwidth= 2,\n",
    "    ),\n",
    "    xaxis=dict(\n",
    "        title= 'Country',\n",
    "        ticklen= 5,\n",
    "        gridwidth= 2,\n",
    "    ),\n",
    "    showlegend= False\n",
    ")\n",
    "fig= go.Figure(data=l, layout=layout)\n",
    "py.iplot(fig)"
   ]
  },
  {
   "cell_type": "markdown",
   "metadata": {},
   "source": [
    "## Get list of country with FP index < less than 1 (worst)"
   ]
  },
  {
   "cell_type": "code",
   "execution_count": 157,
   "metadata": {
    "collapsed": false
   },
   "outputs": [
    {
     "name": "stdout",
     "output_type": "stream",
     "text": [
      "Anguilla\n",
      "Marshall Islands\n",
      "British Virgin Islands\n",
      "Samoa\n",
      "U.S. Virgin Islands\n",
      "Saint Vincent and the Grenadines\n",
      "Liberia\n",
      "Niue\n",
      "Belize\n",
      "Bermuda\n",
      "Turks and Caicos Islands\n",
      "Guernsey\n",
      "Jersey\n",
      "Bahamas\n",
      "Gibraltar\n",
      "Cayman Islands\n",
      "Seychelles\n",
      "Cook Islands\n",
      "Isle of Man\n",
      "Saint Lucia\n",
      "Saint Kitts and Nevis\n",
      "Nauru\n",
      "Panama\n",
      "Gambia\n",
      "Liechtenstein\n",
      "Barbados\n",
      "Mauritius\n",
      "Brunei\n"
     ]
    }
   ],
   "source": [
    "dfr3 = dfr2.cc.where(dfr2.ratio < 1).dropna()\n",
    "for i in dfr3.values:\n",
    "    print(i)"
   ]
  },
  {
   "cell_type": "code",
   "execution_count": null,
   "metadata": {
    "collapsed": true
   },
   "outputs": [],
   "source": []
  }
 ],
 "metadata": {
  "kernelspec": {
   "display_name": "Python 2",
   "language": "python",
   "name": "python2"
  },
  "language_info": {
   "codemirror_mode": {
    "name": "ipython",
    "version": 2
   },
   "file_extension": ".py",
   "mimetype": "text/x-python",
   "name": "python",
   "nbconvert_exporter": "python",
   "pygments_lexer": "ipython2",
   "version": "2.7.11"
  }
 },
 "nbformat": 4,
 "nbformat_minor": 0
}
