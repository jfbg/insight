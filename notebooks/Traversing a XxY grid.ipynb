{
 "cells": [
  {
   "cell_type": "markdown",
   "metadata": {},
   "source": [
    "## Traversing and X,Y grid"
   ]
  },
  {
   "cell_type": "code",
   "execution_count": 2,
   "metadata": {
    "collapsed": false
   },
   "outputs": [
    {
     "name": "stdout",
     "output_type": "stream",
     "text": [
      "93759702772827452793193754439064084879232655700081358920472352712975170021839591675861424\n"
     ]
    }
   ],
   "source": [
    "class possible_paths(object):\n",
    "    def __init__(self):\n",
    "        self.db = {(0, 0): 0, (0, 1): 1, (1, 0): 1, (1,1): 2}\n",
    "    def compute(self, (x, y)):\n",
    "        if (x, y) in self.db: return self.db[(x,y)]\n",
    "        elif x == 0: \n",
    "            self.db[(x,y)] = 1\n",
    "            return self.db[(x,y)]\n",
    "        elif y == 0: \n",
    "            self.db[(x,y)] = 1\n",
    "            return self.db[(x,y)]\n",
    "        else:\n",
    "            self.db[(x,y)] = self.compute((x-1, y)) + \\\n",
    "                                self.compute((x, y-1)) \n",
    "            return self.db[(x,y)]\n",
    "            \n",
    "possible_paths_inst = possible_paths()\n",
    "print possible_paths_inst.compute((150,150))"
   ]
  },
  {
   "cell_type": "markdown",
   "metadata": {},
   "source": [
    "### Analytical Solution"
   ]
  },
  {
   "cell_type": "code",
   "execution_count": 5,
   "metadata": {
    "collapsed": false
   },
   "outputs": [
    {
     "name": "stdout",
     "output_type": "stream",
     "text": [
      "93759702772827452793193754439064084879232655700081358920472352712975170021839591675861424\n"
     ]
    }
   ],
   "source": [
    "import math\n",
    "X = 150\n",
    "Y = 150\n",
    "\n",
    "total = math.factorial(X+Y)/math.factorial(150)/math.factorial(150)\n",
    "print(total)"
   ]
  }
 ],
 "metadata": {
  "kernelspec": {
   "display_name": "Python 2",
   "language": "python",
   "name": "python2"
  },
  "language_info": {
   "codemirror_mode": {
    "name": "ipython",
    "version": 2
   },
   "file_extension": ".py",
   "mimetype": "text/x-python",
   "name": "python",
   "nbconvert_exporter": "python",
   "pygments_lexer": "ipython2",
   "version": "2.7.11"
  }
 },
 "nbformat": 4,
 "nbformat_minor": 0
}
