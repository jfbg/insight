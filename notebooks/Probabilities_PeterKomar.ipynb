{
 "cells": [
  {
   "cell_type": "markdown",
   "metadata": {},
   "source": [
    "## Forward Probability"
   ]
  },
  {
   "cell_type": "code",
   "execution_count": 4,
   "metadata": {
    "collapsed": false
   },
   "outputs": [],
   "source": [
    "import numpy as np\n",
    "from numpy.random import binomial\n",
    "from fractions import *\n",
    "from math import factorial as fac\n",
    "# %qtconsole\n",
    "\n",
    "\n",
    "# From Kyle Willet\n",
    "def compare(analytic,N,f):\n",
    "    errval = err(f,N)\n",
    "    successes = sum(f)\n",
    "    print \"Analytic prediction: {:.2f}%.\".format(analytic*100.)\n",
    "    print \"Monte Carlo: {:.2f} +- {:.2f}%.\".format(successes/float(N)*100.,errval*100.)\n",
    "    \n",
    "def printANA(analytic):\n",
    "    print \"Analytic prediction: {:.2f}%.\".format(analytic*100.)\n",
    "\n",
    "def err(fx,N):\n",
    "    # http://www.northeastern.edu/afeiguin/phys5870/phys5870/node71.html\n",
    "    f2 = [x*x for x in fx]\n",
    "    return np.sqrt((1./N * sum(f2) - (1./N * sum(fx))**2)/float(N))\n",
    "    \n",
    "    "
   ]
  },
  {
   "cell_type": "markdown",
   "metadata": {},
   "source": [
    "### Question 1"
   ]
  },
  {
   "cell_type": "code",
   "execution_count": 8,
   "metadata": {
    "collapsed": true
   },
   "outputs": [],
   "source": [
    "N = 10000 # Set number of trials for MC estimation\n",
    "\n",
    "p_rain_sat = .5\n",
    "p_rain_sun = .2\n",
    "\n",
    "rain_light_sat = .9\n",
    "rain_heavy_sat = .1\n",
    "\n",
    "rain_light_sun = 1.\n",
    "rain_heavy_sun = 0."
   ]
  },
  {
   "cell_type": "code",
   "execution_count": 9,
   "metadata": {
    "collapsed": false
   },
   "outputs": [
    {
     "name": "stdout",
     "output_type": "stream",
     "text": [
      "Analytic prediction: 9.00%.\n",
      "Monte Carlo: 9.27 +- 0.29%.\n"
     ]
    }
   ],
   "source": [
    "# Q1 - Analytical Approach\n",
    "# Probability of light rain on both days\n",
    "\n",
    "# Analytical solution\n",
    "ana_sol = p_rain_sat * rain_light_sat * p_rain_sun * rain_light_sun\n",
    "\n",
    "# MC estimation\n",
    "MC_sol = []\n",
    "for i in range(N):\n",
    "    f = 0\n",
    "    if binomial(1,p_rain_sat):\n",
    "        if binomial(1,rain_light_sat):\n",
    "            if binomial(1,p_rain_sun):\n",
    "                if binomial(1,rain_light_sun):\n",
    "                    f = 1\n",
    "    MC_sol.append(f)\n",
    "    \n",
    "compare(ana_sol,N,MC_sol)  "
   ]
  },
  {
   "cell_type": "code",
   "execution_count": 10,
   "metadata": {
    "collapsed": false
   },
   "outputs": [
    {
     "name": "stdout",
     "output_type": "stream",
     "text": [
      "Analytic prediction: 60.00%.\n",
      "Monte Carlo: 59.75 +- 0.49%.\n"
     ]
    }
   ],
   "source": [
    "#Q2 Probability in rains on both days\n",
    "\n",
    "# Analytical solution\n",
    "ana_sol = (p_rain_sat*(1-p_rain_sun)) + (p_rain_sun*(1-p_rain_sat)) + (p_rain_sat * p_rain_sun)\n",
    "\n",
    "# MC estimation\n",
    "MC_sol = []\n",
    "for i in range(N):\n",
    "    f = 0\n",
    "    if binomial(1,p_rain_sat):\n",
    "        f = 1\n",
    "    if binomial(1,p_rain_sun):\n",
    "        f = 1\n",
    "    MC_sol.append(f)\n",
    "    \n",
    "compare(ana_sol,N,MC_sol) "
   ]
  },
  {
   "cell_type": "markdown",
   "metadata": {},
   "source": [
    "### Question 2"
   ]
  },
  {
   "cell_type": "code",
   "execution_count": 6,
   "metadata": {
    "collapsed": true
   },
   "outputs": [],
   "source": [
    "N = 100000\n",
    "\n",
    "b1_t = 3./7.\n",
    "b1_c = 4./7.\n",
    "b2_t = 1./6.\n",
    "b2_c = 5./6.\n",
    "\n",
    "Fb1_t = Fraction(3,7)\n",
    "Fb1_c = Fraction(4,7)\n",
    "Fb2_t = Fraction(1,6)\n",
    "Fb2_c = Fraction(5,6)"
   ]
  },
  {
   "cell_type": "code",
   "execution_count": 23,
   "metadata": {
    "collapsed": false
   },
   "outputs": [
    {
     "name": "stdout",
     "output_type": "stream",
     "text": [
      "Analytic prediction: 45.24%.\n",
      "Monte Carlo: 45.36 +- 0.16%.\n",
      "Solution in fraction: 19/42  (0.452380952381)\n"
     ]
    }
   ],
   "source": [
    "#Q1 Probability of getting two different candies\n",
    "\n",
    "ana_sol = b1_t*b2_c + b1_c * b2_t\n",
    "Fana_sol = Fb1_t*Fb2_c + Fb1_c * Fb2_t\n",
    "\n",
    "#MC estimation\n",
    "MC_sol = []\n",
    "for i in range(N):\n",
    "    f = 0\n",
    "    if binomial(1,b1_t):\n",
    "        if binomial(1,b2_c):\n",
    "            f = 1\n",
    "    else: #binomial(1,b1_c):\n",
    "        if binomial(1,b2_t):\n",
    "            f = 1\n",
    "    MC_sol.append(f)\n",
    "    \n",
    "compare(ana_sol,N,MC_sol) \n",
    "# printANA(ana_sol)\n",
    "print('Solution in fraction: ' + str(Fana_sol) + '  (' + str(float(Fana_sol.num)/float(Fana_sol.den)) + ')')"
   ]
  },
  {
   "cell_type": "code",
   "execution_count": 29,
   "metadata": {
    "collapsed": false
   },
   "outputs": [
    {
     "name": "stdout",
     "output_type": "stream",
     "text": [
      "Analytic prediction: 45.24%.\n",
      "Monte Carlo: 45.06 +- 0.16%.\n",
      "Solution in fraction: 19/42  (0.452380952381)\n"
     ]
    }
   ],
   "source": [
    "#Q1 What if we draw them from the same (but randomly chosen bag)?\n",
    "\n",
    "ana_sol = 0.5*(3./7.*4./6. + 4./7.*3./6) + .5*(1./6.* 1 + 5./6*1./5.)\n",
    "Fana_sol = Fraction(1,2)*(Fb1_t*Fraction(4,6) + Fb1_c * Fraction(3,6)) + \\\n",
    "                       Fraction(1,2)*(Fb2_t*Fraction(1,1) + Fb2_c * Fraction(1,5))   \n",
    "\n",
    "# MC estimation\n",
    "MC_sol = []\n",
    "for i in range(N):\n",
    "    f = 0\n",
    "    if binomial(1,.5):       #Pick Bag 1\n",
    "        if binomial(1,b1_t):      \n",
    "            if binomial(1,4./6.):\n",
    "                f = 1\n",
    "        else:\n",
    "             if binomial(1,3./6.):\n",
    "                f = 1           \n",
    "    else:                   #Pick Bag 2\n",
    "        if binomial(1,b2_t):     \n",
    "            f = 1\n",
    "        else:\n",
    "             if binomial(1,1./5.):\n",
    "                f = 1    \n",
    "    MC_sol.append(f)\n",
    "    \n",
    "compare(ana_sol,N,MC_sol) \n",
    "# printANA(ana_sol)\n",
    "print('Solution in fraction: ' + str(Fana_sol) + '  (' + str(float(Fana_sol.num)/float(Fana_sol.den)) + ')')"
   ]
  },
  {
   "cell_type": "markdown",
   "metadata": {},
   "source": [
    "### Question 3"
   ]
  },
  {
   "cell_type": "code",
   "execution_count": 50,
   "metadata": {
    "collapsed": false
   },
   "outputs": [
    {
     "name": "stdout",
     "output_type": "stream",
     "text": [
      "2.5\n",
      "82.7269605389\n"
     ]
    }
   ],
   "source": [
    "from math import factorial as fac\n",
    "# What is the expectation values and the standard deviation of the reward?\n",
    "\n",
    "R3h = 100\n",
    "R2h = 40\n",
    "R1h = 0\n",
    "R0h = -200\n",
    "\n",
    "P3h = 0.5**3\n",
    "P2h = fac(3)/fac(2) * .5**3\n",
    "P1h = fac(3)/fac(2) * .5**3\n",
    "P0h = 0.5**3\n",
    "\n",
    "# Expected Reward\n",
    "ana_sol = P3h * R3h + P2h * R2h + P1h * R1h + P0h *R0h\n",
    "ana_std = ((R3h-ana_sol)**2*P3h + (R2h-ana_sol)**2*P2h + \\\n",
    "               (R1h-ana_sol)**2*P1h + (R0h-ana_sol)**2*P0h)**.5\n",
    "\n",
    "print(ana_sol)\n",
    "print(ana_std)\n",
    "\n"
   ]
  },
  {
   "cell_type": "markdown",
   "metadata": {},
   "source": [
    "### Question 4"
   ]
  },
  {
   "cell_type": "code",
   "execution_count": 56,
   "metadata": {
    "collapsed": false
   },
   "outputs": [
    {
     "name": "stdout",
     "output_type": "stream",
     "text": [
      "0.0666666666667\n",
      "1/15\n"
     ]
    }
   ],
   "source": [
    "# 10 selected Hogwarts students are randomly lined up for questioning.\n",
    "# Q1: What is the probability that Potter, Granger and Weasley are standing next to each other? \n",
    "\n",
    "# Total number of positions where the 3 could be next to each other\n",
    "c3 = 8.\n",
    "Fc3 = Fraction(8,1)\n",
    "# Total number of permutations for all 3\n",
    "c3p = fac(3)\n",
    "Fc3p = Fraction(c3p,1)\n",
    "# Total number of permuations for other 7 kids\n",
    "c7p = fac(7)\n",
    "Fc7p = Fraction(fac(7),1)\n",
    "# Total number of permutation \n",
    "c10p = fac(10)\n",
    "Fc10p = Fraction(1,fac(10))   # Inverse\n",
    "\n",
    "ana_sol = c3 * c3p * c7p / c10p\n",
    "Fana_sol = Fc3 * Fc3p * Fc7p * Fc10p\n",
    "print(ana_sol)\n",
    "print(Fana_sol)"
   ]
  },
  {
   "cell_type": "code",
   "execution_count": 61,
   "metadata": {
    "collapsed": false
   },
   "outputs": [
    {
     "name": "stdout",
     "output_type": "stream",
     "text": [
      "0.0833333333333\n",
      "1/12\n"
     ]
    }
   ],
   "source": [
    "# Q2: What if they are standing in a circle?\n",
    "\n",
    "# Total number of positions where the 3 could be next to each other\n",
    "c3 = 10.\n",
    "Fc3 = Fraction(10,1)\n",
    "# Total number of permutations for all 3\n",
    "c3p = fac(3)\n",
    "Fc3p = Fraction(c3p,1)\n",
    "# Total number of permuations for other 7 kids\n",
    "c7p = fac(7)\n",
    "Fc7p = Fraction(fac(7),1)\n",
    "# Total number of permutation \n",
    "c10p = fac(10)\n",
    "Fc10p = Fraction(1,fac(10))   # Inverse\n",
    "\n",
    "ana_sol = c3 * c3p * c7p / c10p\n",
    "Fana_sol = Fc3 * Fc3p * Fc7p * Fc10p\n",
    "print(ana_sol)\n",
    "print(Fana_sol)"
   ]
  },
  {
   "cell_type": "markdown",
   "metadata": {},
   "source": [
    "### Question 5"
   ]
  },
  {
   "cell_type": "code",
   "execution_count": 66,
   "metadata": {
    "collapsed": false
   },
   "outputs": [
    {
     "name": "stdout",
     "output_type": "stream",
     "text": [
      "0.2\n",
      "1/5\n"
     ]
    }
   ],
   "source": [
    "# 5 male dancers, a, b, c, d, e and 5 female dancers α, β, γ, δ, ε form dancing couples randomly. \n",
    "# Q: What is the probability that c dances with γ?\n",
    "\n",
    "# Total number of possible couples\n",
    "totalCouples = float(fac(5))\n",
    "FtotalCouples = Fraction(1,int(totalCouples))  # inverse\n",
    "\n",
    "# Number of times c is paired with γ:\n",
    "cy = fac(4)\n",
    "Fcy = Fraction(int(cy),1)\n",
    "\n",
    "ana_sol = cy/totalCouples\n",
    "Fana_sol = Fcy * FtotalCouples\n",
    "\n",
    "print(ana_sol)\n",
    "print(Fana_sol)"
   ]
  },
  {
   "cell_type": "markdown",
   "metadata": {},
   "source": [
    "### Question 6"
   ]
  },
  {
   "cell_type": "code",
   "execution_count": 25,
   "metadata": {
    "collapsed": false
   },
   "outputs": [
    {
     "name": "stdout",
     "output_type": "stream",
     "text": [
      "0.3\n",
      "3/10\n"
     ]
    }
   ],
   "source": [
    "# The 21 Insight Fellows are grouped into 3 equal-size groups randomly.\n",
    "# Q: What is the probability that Derrick and Gaurav end up in the same group?\n",
    "\n",
    "# 1st group: 21! / (14!*7!)\n",
    "# 2nd group: 14! / (7!*7!)\n",
    "# 3rd group: deterministic --> 1\n",
    "\n",
    "# Total permutations: 21! / (7!)**3\n",
    "\n",
    "# IF in 1st group: (19 5)*(14 7) = \n",
    "# IF in 1st group: (19 5)*(14 7) =  19! / (14!*7!)  *  (14! / (7!*7!)) = 19!/(5!*7!**2)\n",
    "# IF in 2nd group: (19 7)*(12 5) =  19! / (7!*12!)  *  (12! / (5!*7!)) = 19!/(5!*7!**2)\n",
    "# IF in 3rd group: (19 7)*(12 7) =  19! / (7!*12!)  *  (12! / (5!*7!)) = 19!/(5!*7!**2)\n",
    "\n",
    "# Prob:    3* (19!/(5!*7!**2)) / 21! / (7!)**3\n",
    "\n",
    "ana_sol = 3.*(fac(19)/(fac(5)*fac(7)**2)) / (fac(21) / (fac(7))**3)\n",
    "Fana_sol = Fraction(3,1)*Fraction(fac(19),fac(5)*fac(7)**2) *Fraction(fac(7)**3,fac(21)) \n",
    "\n",
    "print(ana_sol)\n",
    "print(Fana_sol)"
   ]
  },
  {
   "cell_type": "markdown",
   "metadata": {},
   "source": [
    "### Question 7"
   ]
  },
  {
   "cell_type": "code",
   "execution_count": 73,
   "metadata": {
    "collapsed": false
   },
   "outputs": [
    {
     "name": "stdout",
     "output_type": "stream",
     "text": [
      "Analytic prediction: 5.63%.\n",
      "Monte Carlo: 5.72 +- 0.23%.\n"
     ]
    }
   ],
   "source": [
    "# The Krampus distributes 10 pieces of candy randomly between the stockings of 4 kids, A, B, C, D. \n",
    "# Q: What is the probability that A doesn’t get any?\n",
    "# (The answer depends on the details of the randomization procedure.)\n",
    "\n",
    "# Assume that for each candy, each kid has the same probability to get it\n",
    "Pa = 1./4.\n",
    "PaNOT = 1-Pa\n",
    "ana_sol = PaNOT**10\n",
    "\n",
    "# MC estimation\n",
    "N = 10000\n",
    "MC_sol = []\n",
    "for i in range(N):\n",
    "    f = 1\n",
    "    for ii in range(10):\n",
    "        if binomial(1,Pa):\n",
    "            f = 0\n",
    "#     print(f)\n",
    "    MC_sol.append(f)\n",
    "    \n",
    "compare(ana_sol,N,MC_sol) \n",
    "    "
   ]
  },
  {
   "cell_type": "markdown",
   "metadata": {},
   "source": [
    "### Question 8"
   ]
  },
  {
   "cell_type": "code",
   "execution_count": 88,
   "metadata": {
    "collapsed": false
   },
   "outputs": [
    {
     "name": "stdout",
     "output_type": "stream",
     "text": [
      "Q1:0.285179807064\n",
      "Q2:0.0387420489\n",
      "Q3:0.0236087932232\n"
     ]
    }
   ],
   "source": [
    "# We keep throwing a fair, ten-sided die, with numbers 1, 2, 3, . . . 10 on its sides, \n",
    "# and count the number of times “1” comes up.\n",
    "#Q1: What is the probability that we get two “1”s in the first twenty throws?\n",
    "\n",
    "ana_sol = (1./10)**2 * (9./10)**18 * (fac(20)/(fac(18)*fac(2)))\n",
    "print('Q1:' + str(ana_sol))\n",
    "\n",
    "#Q2: What is the probability that we get the first “1” at the tenth throw?\n",
    "ana_sol = (1./10) * (9./10)**9\n",
    "print('Q2:' + str(ana_sol))\n",
    "\n",
    "\n",
    "#Q3: What is the probability that we get the third “1” at the thirtieth throw?\n",
    "ana_sol = (1./10)**2 * (9./10)**27 * (fac(29)/(fac(27)*fac(2))) *.1\n",
    "print('Q3:' + str(ana_sol))"
   ]
  },
  {
   "cell_type": "markdown",
   "metadata": {
    "collapsed": true
   },
   "source": [
    "### Question 9\n",
    "\n",
    "A blood test for an disease gives positive result on your sample.\n",
    "\n",
    "Q: What is the probability that the sample actually has the disease? (Let’s assume that the prevalence of disease is one in 10,000, and the test has a false positive rate of 1%, and no false negative rate.)"
   ]
  },
  {
   "cell_type": "code",
   "execution_count": 13,
   "metadata": {
    "collapsed": false
   },
   "outputs": [
    {
     "name": "stdout",
     "output_type": "stream",
     "text": [
      "P(ill|+) = 0.00990197049213\n",
      "P(+) = 0.010099\n"
     ]
    }
   ],
   "source": [
    "# PRIOR PROBABILITIES\n",
    "# P(ill) = 1/10000\n",
    "# P(healthy) = 9999/10000\n",
    "Pi = 1./10000.\n",
    "Ph = 9999./10000.\n",
    "\n",
    "## FORWARD PROBABILITY\n",
    "# P(+ | ill) = 100%\n",
    "# P(- | ill) = 0%\n",
    "# P(+ | healthy) = 1/100\n",
    "# P(- | healthy) = 99/100\n",
    "\n",
    "Ppi = 1.\n",
    "Pph = 1/100.\n",
    "Pni = 0.\n",
    "Pnh = 99./100.\n",
    "\n",
    "## POSTERIOR PROBABILITY\n",
    "# P(ill | +)  = P(+|ill)*P(ill) / (P(+ | ill)*P(ill) + P(+|healthy)*P(healthy))\n",
    "Pip = Ppi*Pi / (Ppi*Pi + Pph *Ph)\n",
    "print('P(ill|+) = ' + str(Pip))\n",
    " \n",
    "\n",
    "# What is P(+)? Total probability that result is positive\n",
    "# P(+) = P(+|ill) * P(ill) + P(+|healthy) * P(healthy)\n",
    "Pp = Ppi*Pi + Pph * Ph\n",
    "print('P(+) = ' + str(Pp))\n"
   ]
  },
  {
   "cell_type": "markdown",
   "metadata": {},
   "source": [
    "### Question 10\n",
    "You have a new burglar alarm installed in your house. It is advertised to be able to detect 99.9% of all burglaries. From the user manual you also learn that earthquakes have a tendency to set it off with 20% probability.\n",
    "\n",
    "Q1: One day, while you are at work, you get an automated message from your new burglar alarm saying it went off. What is the probability that a break-in happened? (Let’s assume a break-in rate of one in five years, and an earthquake rate of two per year.)"
   ]
  },
  {
   "cell_type": "code",
   "execution_count": 17,
   "metadata": {
    "collapsed": false
   },
   "outputs": [
    {
     "name": "stdout",
     "output_type": "stream",
     "text": [
      "Q1: 0.331408040158, if we know there were no erathquake.\n",
      "Q1: 0.333232723104, if we do not knwo if there were an erathquake.\n"
     ]
    }
   ],
   "source": [
    "# PRIOR PROBABILITIES\n",
    "# P(E) = 2/365.25\n",
    "# P(B) = 1/(365.25*5)\n",
    "PE = 2/365.25\n",
    "PB = 1/(365.25*5)\n",
    "\n",
    "# What are possible models?\n",
    "# Assuming B and E are independent\n",
    "# P(E & no B) = P(E) * (1-P(B))\n",
    "# P(E & B) = P(E) * P(B)\n",
    "# P(noE & B) = (1-P(E)) * P(B)\n",
    "# P(noE & noB) = (1-P(E)) * (1-P(B))\n",
    "PEnB = PE * (1.-PB)\n",
    "PEB = PE*PB\n",
    "PnEB = (1.-PE) * PB\n",
    "PnEnB = (1.-PE) * (1.-PB)\n",
    "\n",
    "# FORWARD PROBABILITY\n",
    "# Let's say + means alarm went off, - means alarm did not go off\n",
    "# P(+|EnB) = 0.2\n",
    "# P(+|BE) = 99.9%  Pick max of 99.9% and 20%\n",
    "# P(+|nEB) = 99.9%\n",
    "# P(+|nEnB) = 0%\n",
    "PpEnB = 0.2\n",
    "PpEB = 99.9/100\n",
    "PpnEB = 99.9/100\n",
    "PpnEnB = 0.\n",
    "\n",
    "# POSTERIOR PROBABILITY\n",
    "# sumA = P(+|EnB)*PEnB + P(+|EB)*PEB + P(+|nEB)*PnEB + P(+|nEnB)*PnEnB\n",
    "sumA = PpEnB*PEnB + PpEB*PEB + PpnEB*PnEB + PpnEnB*PnEnB\n",
    "# P(EnB|+) = P(+|EnB)*PEnB / sumA\n",
    "# P(EB|+) = P(+|EB)*PEB / sumA\n",
    "# P(nEB|+) = P(+|nEB)*PnEB / sumA\n",
    "# P(nEnB|+) = P(+|nEnB) / sumA\n",
    "PEnBp = PpEnB*PEnB / sumA\n",
    "PEBp = PpEB*PEB / sumA\n",
    "PnEBp = PpnEB*PnEB / sumA\n",
    "PnEnBp = PpnEnB*PnEnB / sumA\n",
    "\n",
    "print('Q1: ' + str(PnEBp) +', if we know there were no erathquake.')   \n",
    "print('Q1: ' + str(PnEBp+PEBp) +', if we do not know if there were an earthquake.')   \n",
    "\n"
   ]
  },
  {
   "cell_type": "markdown",
   "metadata": {},
   "source": [
    "Q2: A minute after this, you learn that there was an earthquake near your house. Now, what is the proba- bility that a break-in happened?"
   ]
  },
  {
   "cell_type": "code",
   "execution_count": 16,
   "metadata": {
    "collapsed": false
   },
   "outputs": [
    {
     "name": "stdout",
     "output_type": "stream",
     "text": [
      "Q2: 0.00272914281968\n"
     ]
    }
   ],
   "source": [
    "# PRIOR PROBABILITIES\n",
    "# P(E) = 2/365.25\n",
    "# P(B) = 1/(365.25*5)\n",
    "PE = 1.\n",
    "PB = 1/(365.25*5)\n",
    "\n",
    "# What are possible models?\n",
    "# Assuming B and E are independent\n",
    "# P(E & no B) = P(E) * (1-P(B))\n",
    "# P(E & B) = P(E) * P(B)\n",
    "# P(noE & B) = (1-P(E)) * P(B)\n",
    "# P(noE & noB) = (1-P(E)) * (1-P(B))\n",
    "PEnB = PE * (1.-PB)\n",
    "PEB = PE*PB\n",
    "PnEB = (1.-PE) * PB\n",
    "PnEnB = (1.-PE) * (1.-PB)\n",
    "\n",
    "# FORWARD PROBABILITY\n",
    "# Let's say + means alarm went off, - means alarm did not go off\n",
    "# P(+|EnB) = 0.2\n",
    "# P(+|BE) = 99.9%  Pick max of 99.9% and 20%\n",
    "# P(+|nEB) = 99.9%\n",
    "# P(+|nEnB) = 0%\n",
    "PpEnB = 0.2\n",
    "PpEB = 99.9/100\n",
    "PpnEB = 99.9/100\n",
    "PpnEnB = 0.\n",
    "\n",
    "# POSTERIOR PROBABILITY\n",
    "# sumA = P(+|EnB)*PEnB + P(+|EB)*PEB + P(+|nEB)*PnEB + P(+|nEnB)*PnEnB\n",
    "sumA = PpEnB*PEnB + PpEB*PEB + PpnEB*PnEB + PpnEnB*PnEnB\n",
    "# P(EnB|+) = P(+|EnB)*PEnB / sumA\n",
    "# P(EB|+) = P(+|EB)*PEB / sumA\n",
    "# P(nEB|+) = P(+|nEB)*PnEB / sumA\n",
    "# P(nEnB|+) = P(+|nEnB) / sumA\n",
    "PEnBp = PpEnB*PEnB / sumA\n",
    "PEBp = PpEB*PEB / sumA\n",
    "PnEBp = PpnEB*PnEB / sumA\n",
    "PnEnBp = PpnEnB*PnEnB / sumA\n",
    "\n",
    "print('Q2: ' + str(PEBp))"
   ]
  },
  {
   "cell_type": "code",
   "execution_count": null,
   "metadata": {
    "collapsed": true
   },
   "outputs": [],
   "source": []
  }
 ],
 "metadata": {
  "kernelspec": {
   "display_name": "Python 2",
   "language": "python",
   "name": "python2"
  },
  "language_info": {
   "codemirror_mode": {
    "name": "ipython",
    "version": 2
   },
   "file_extension": ".py",
   "mimetype": "text/x-python",
   "name": "python",
   "nbconvert_exporter": "python",
   "pygments_lexer": "ipython2",
   "version": "2.7.11"
  }
 },
 "nbformat": 4,
 "nbformat_minor": 0
}
