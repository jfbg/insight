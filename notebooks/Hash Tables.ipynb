{
 "cells": [
  {
   "cell_type": "code",
   "execution_count": 3,
   "metadata": {
    "collapsed": true
   },
   "outputs": [],
   "source": [
    "import numpy as np\n",
    "\n",
    "%qtconsole"
   ]
  },
  {
   "cell_type": "markdown",
   "metadata": {},
   "source": [
    "## HASHING\n",
    "\n",
    "http://interactivepython.org/runestone/static/pythonds/SortSearch/Hashing.html"
   ]
  },
  {
   "cell_type": "markdown",
   "metadata": {},
   "source": [
    "Suppose you are given the following set of keys to insert into a hash table that holds exactly 11 values: 113 , 117 , 97 , 100 , 114 , 108 , 116 , 105 , 99 Which of the following best demonstrates the contents of the has table after all the keys have been inserted using linear probing?"
   ]
  },
  {
   "cell_type": "code",
   "execution_count": 28,
   "metadata": {
    "collapsed": false
   },
   "outputs": [
    {
     "name": "stdout",
     "output_type": "stream",
     "text": [
      "[3, 7, 9, 1, 4, 10, 6, 8, 0, None, None]\n",
      "[99, 100, None, 113, 114, None, 116, 117, 105, 97, 108]\n"
     ]
    }
   ],
   "source": [
    "def fhash(item, sot):\n",
    "    pos = item%sot\n",
    "    return pos\n",
    "\n",
    "L = np.array([113 , 117 , 97 , 100 , 114 , 108 , 116 , 105 , 99])\n",
    "sizeoftable = 11\n",
    "H = [None]*sizeoftable\n",
    "T = [None]*sizeoftable\n",
    "for xi in np.arange(len(L)):\n",
    "    H[xi] = fhash(L[xi],sizeoftable)\n",
    "    while T[H[xi]] is not None:\n",
    "        H[xi] = H[xi] + 1\n",
    "        if H[xi] > sizeoftable:\n",
    "            H[xi] = H[xi] - sizeoftable\n",
    "    T[H[xi]] = L[xi]\n",
    "    \n",
    "print(H)\n",
    "print(T)\n"
   ]
  },
  {
   "cell_type": "markdown",
   "metadata": {},
   "source": [
    "## Recursion"
   ]
  },
  {
   "cell_type": "code",
   "execution_count": 107,
   "metadata": {
    "collapsed": false
   },
   "outputs": [
    {
     "name": "stdout",
     "output_type": "stream",
     "text": [
      "15\n"
     ]
    }
   ],
   "source": [
    "def listsum(list0):\n",
    "    if len(list0) == 1:\n",
    "        return list0[0]\n",
    "    else:\n",
    "        return list0[0] + listsum(list0[1:])\n",
    "    \n",
    "print(listsum([0,1,2,3,4,5]))\n"
   ]
  },
  {
   "cell_type": "markdown",
   "metadata": {},
   "source": [
    "## Sorting string in python"
   ]
  },
  {
   "cell_type": "code",
   "execution_count": 108,
   "metadata": {
    "collapsed": false
   },
   "outputs": [
    {
     "name": "stdout",
     "output_type": "stream",
     "text": [
      "abcdef\n"
     ]
    }
   ],
   "source": [
    "def sortstr(stringtosort):\n",
    "    return ''.join(sorted(stringtosort))\n",
    "\n",
    "g = 'bfdcea'\n",
    "print(sortstr(g))"
   ]
  }
 ],
 "metadata": {
  "kernelspec": {
   "display_name": "Python 2",
   "language": "python",
   "name": "python2"
  },
  "language_info": {
   "codemirror_mode": {
    "name": "ipython",
    "version": 2
   },
   "file_extension": ".py",
   "mimetype": "text/x-python",
   "name": "python",
   "nbconvert_exporter": "python",
   "pygments_lexer": "ipython2",
   "version": "2.7.11"
  }
 },
 "nbformat": 4,
 "nbformat_minor": 0
}
