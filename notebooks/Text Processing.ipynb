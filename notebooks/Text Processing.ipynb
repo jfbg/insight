{
 "cells": [
  {
   "cell_type": "markdown",
   "metadata": {},
   "source": [
    "### Reverse a string in place"
   ]
  },
  {
   "cell_type": "code",
   "execution_count": 11,
   "metadata": {
    "collapsed": false
   },
   "outputs": [
    {
     "name": "stdout",
     "output_type": "stream",
     "text": [
      "Je me souviendrai de toi mon frere ecarlate\n",
      "etalrace ererf nom iot ed iardneivuos em eJ\n"
     ]
    }
   ],
   "source": [
    "s = 'Je me souviendrai de toi mon frere ecarlate'\n",
    "print(s)\n",
    "s = list(s)\n",
    "size = len(s)\n",
    "for i in range(size/2):\n",
    "    s[i], s[size-1-i] = s[size-1-i],s[i]\n",
    "print(\"\".join(s))\n",
    "    \n",
    "    \n"
   ]
  },
  {
   "cell_type": "markdown",
   "metadata": {},
   "source": [
    "### Remove stop words from a sentence\n",
    "\n",
    "Stop words are very common words or adjectives that can hinder your SEO efforts. Words such as, 'of ' , 'or', 'the' etc. interfere with your SEO efforts because they use up precious character space, especially when creating web page titles."
   ]
  },
  {
   "cell_type": "code",
   "execution_count": 27,
   "metadata": {
    "collapsed": false
   },
   "outputs": [
    {
     "name": "stdout",
     "output_type": "stream",
     "text": [
      "set(['and', 'fence', 'over', 'house.', 'doe', 'running', 'jumping', 'The', 'away', 'red'])\n"
     ]
    }
   ],
   "source": [
    "stoplist = {'of','or','the','at','from','is'}\n",
    "sentence = \"The red doe is jumping over the fence and running away from the house.\"\n",
    "sentence2 = set(sentence.split()).difference(stoplist)\n",
    "print(sentence2)\n",
    "\n",
    "## IN PROGRESS\n",
    "\n"
   ]
  }
 ],
 "metadata": {
  "kernelspec": {
   "display_name": "Python 2",
   "language": "python",
   "name": "python2"
  },
  "language_info": {
   "codemirror_mode": {
    "name": "ipython",
    "version": 2
   },
   "file_extension": ".py",
   "mimetype": "text/x-python",
   "name": "python",
   "nbconvert_exporter": "python",
   "pygments_lexer": "ipython2",
   "version": "2.7.11"
  }
 },
 "nbformat": 4,
 "nbformat_minor": 0
}
