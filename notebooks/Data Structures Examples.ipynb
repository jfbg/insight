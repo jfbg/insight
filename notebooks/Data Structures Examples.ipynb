{
 "cells": [
  {
   "cell_type": "markdown",
   "metadata": {},
   "source": [
    "### Deque"
   ]
  },
  {
   "cell_type": "code",
   "execution_count": 2,
   "metadata": {
    "collapsed": false
   },
   "outputs": [
    {
     "name": "stdout",
     "output_type": "stream",
     "text": [
      "extend    : deque(['a', 'b', 'c', 'd', 'e', 'f', 'g'])\n",
      "append    : deque(['a', 'b', 'c', 'd', 'e', 'f', 'g', 'h'])\n",
      "extendleft: deque(['g', 'f', 'e', 'd', 'c', 'b', 'a'])\n",
      "appendleft: deque(['h', 'g', 'f', 'e', 'd', 'c', 'b', 'a'])\n"
     ]
    }
   ],
   "source": [
    "import collections\n",
    "\n",
    "# Add to the right\n",
    "d = collections.deque()\n",
    "d.extend('abcdefg')\n",
    "print 'extend    :', d\n",
    "d.append('h')\n",
    "print 'append    :', d\n",
    "\n",
    "# Add to the left\n",
    "d = collections.deque()\n",
    "d.extendleft('abcdefg')\n",
    "print 'extendleft:', d\n",
    "d.appendleft('h')\n",
    "print 'appendleft:', d"
   ]
  },
  {
   "cell_type": "markdown",
   "metadata": {
    "collapsed": true
   },
   "source": [
    "### Stack"
   ]
  },
  {
   "cell_type": "code",
   "execution_count": 16,
   "metadata": {
    "collapsed": false
   },
   "outputs": [
    {
     "name": "stdout",
     "output_type": "stream",
     "text": [
      "True\n",
      "dog\n",
      "3\n",
      "False\n",
      "8.4\n",
      "True\n",
      "2\n"
     ]
    }
   ],
   "source": [
    "class Stack:\n",
    "    \n",
    "    def __init__(self):\n",
    "        self.items = []    #Makes it a list\n",
    "        \n",
    "    def isEmpty(self):\n",
    "        return self.items == []\n",
    "    \n",
    "    def push(self, item):\n",
    "        return self.items.append(item)\n",
    "    \n",
    "    def pop(self):\n",
    "        return self.items.pop()    #pop already exists and return the last item of a list and remove it\n",
    "    \n",
    "    def peek(self):\n",
    "        return self.items[len(self.items)-1]\n",
    "    \n",
    "    def size(self):\n",
    "        return len(self.items)\n",
    "    \n",
    "        \n",
    "        \n",
    "    \n",
    "    \n",
    "    \n",
    "    \n",
    "    \n",
    "s=Stack()\n",
    "\n",
    "print(s.isEmpty())\n",
    "s.push(4)\n",
    "s.push('dog')\n",
    "print(s.peek())\n",
    "s.push(True)\n",
    "print(s.size())\n",
    "print(s.isEmpty())\n",
    "s.push(8.4)\n",
    "print(s.pop())\n",
    "print(s.pop())\n",
    "print(s.size())"
   ]
  },
  {
   "cell_type": "code",
   "execution_count": 22,
   "metadata": {
    "collapsed": false
   },
   "outputs": [
    {
     "name": "stdout",
     "output_type": "stream",
     "text": [
      "False\n",
      "False\n"
     ]
    }
   ],
   "source": [
    "## Can be used, eg, to find if parenthesis in expression are balanced.\n",
    "\n",
    "def parChecker(symbolString):\n",
    "    s = Stack()\n",
    "    balanced = True\n",
    "    index = 0\n",
    "    \n",
    "    while index < len(symbolString):\n",
    "        symbol = symbolString[index]\n",
    "        if symbol ==\"(\":\n",
    "            s.push(symbol)\n",
    "        else:\n",
    "            if s.isEmpty():\n",
    "                balanced = False\n",
    "            else:\n",
    "                s.pop()\n",
    "                \n",
    "        index += 1\n",
    "        \n",
    "    if balanced and s.isEmpty():\n",
    "        return True\n",
    "    else:\n",
    "        return False\n",
    "    \n",
    "print(parChecker('((()'))\n",
    "print(parChecker(')'))\n",
    "                "
   ]
  },
  {
   "cell_type": "code",
   "execution_count": 25,
   "metadata": {
    "collapsed": false
   },
   "outputs": [
    {
     "name": "stdout",
     "output_type": "stream",
     "text": [
      "11101001\n"
     ]
    }
   ],
   "source": [
    "def divideBy2(decNumber):\n",
    "    remstack = Stack()\n",
    "\n",
    "    while decNumber > 0:\n",
    "        rem = decNumber % 2\n",
    "        remstack.push(rem)\n",
    "        decNumber = decNumber // 2\n",
    "\n",
    "    binString = \"\"\n",
    "    while not remstack.isEmpty():\n",
    "        binString = binString + str(remstack.pop())\n",
    "\n",
    "    return binString\n",
    "\n",
    "print(divideBy2(233))"
   ]
  },
  {
   "cell_type": "markdown",
   "metadata": {},
   "source": [
    "### Queue"
   ]
  },
  {
   "cell_type": "code",
   "execution_count": 35,
   "metadata": {
    "collapsed": false
   },
   "outputs": [
    {
     "name": "stdout",
     "output_type": "stream",
     "text": [
      "True\n",
      "3\n",
      "False\n",
      "4\n",
      "dog\n",
      "2\n"
     ]
    }
   ],
   "source": [
    "class Queue:\n",
    "    \n",
    "    def __init__(self):\n",
    "        self.items = []\n",
    "        \n",
    "    def enqueue(self,item):\n",
    "        self.items.append(item)\n",
    "        \n",
    "    def dequeue(self):\n",
    "        return self.items.pop(0)\n",
    "        \n",
    "    def isEmpty(self):\n",
    "        return self.items == []\n",
    "    \n",
    "    def size(self):\n",
    "        return len(self.items)\n",
    "    \n",
    "q = Queue()\n",
    "print(q.isEmpty())\n",
    "q.enqueue(4)\n",
    "q.enqueue('dog')\n",
    "q.enqueue(True)\n",
    "print(q.size())\n",
    "print(q.isEmpty())\n",
    "q.enqueue(8.4)\n",
    "print(q.dequeue())\n",
    "print(q.dequeue())\n",
    "print(q.size())"
   ]
  },
  {
   "cell_type": "markdown",
   "metadata": {},
   "source": [
    "### Deque"
   ]
  },
  {
   "cell_type": "code",
   "execution_count": 48,
   "metadata": {
    "collapsed": false
   },
   "outputs": [
    {
     "name": "stdout",
     "output_type": "stream",
     "text": [
      "True\n",
      "4\n",
      "False\n",
      "8.4\n",
      "True\n"
     ]
    }
   ],
   "source": [
    "class Deque:\n",
    "    \n",
    "    def __init__(self):\n",
    "        self.items = []\n",
    "        \n",
    "    def addFront(self,item):\n",
    "        self.items.insert(0,item)\n",
    "        \n",
    "    def addRear(self,item):\n",
    "        self.items.append(item)\n",
    "            \n",
    "    def removeFront(self):\n",
    "        return self.items.pop(0)\n",
    "    \n",
    "    def removeRear(self):\n",
    "        return self.items.pop()\n",
    "    \n",
    "    def isEmpty(self):\n",
    "        return self.items == []\n",
    "    \n",
    "    def size(self):\n",
    "        return len(self.items)\n",
    "        \n",
    "        \n",
    "d = Deque()\n",
    "print(d.isEmpty())\n",
    "d.addRear(4)\n",
    "d.addRear('dog')\n",
    "d.addFront('cat')\n",
    "d.addFront(True)\n",
    "print(d.size())\n",
    "print(d.isEmpty())\n",
    "d.addRear(8.4)\n",
    "print(d.removeRear())\n",
    "print(d.removeFront())"
   ]
  },
  {
   "cell_type": "markdown",
   "metadata": {},
   "source": [
    "\n",
    "\n",
    "\n",
    "\n",
    "\n",
    "\n",
    "\n",
    "\n",
    "\n",
    "\n",
    "\n",
    "\n",
    "\n",
    "\n",
    "\n",
    "\n",
    "\n",
    "\n",
    "\n"
   ]
  }
 ],
 "metadata": {
  "kernelspec": {
   "display_name": "Python 2",
   "language": "python",
   "name": "python2"
  },
  "language_info": {
   "codemirror_mode": {
    "name": "ipython",
    "version": 2
   },
   "file_extension": ".py",
   "mimetype": "text/x-python",
   "name": "python",
   "nbconvert_exporter": "python",
   "pygments_lexer": "ipython2",
   "version": "2.7.11"
  }
 },
 "nbformat": 4,
 "nbformat_minor": 0
}
