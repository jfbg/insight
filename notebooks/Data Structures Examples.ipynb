{
 "cells": [
  {
   "cell_type": "markdown",
   "metadata": {},
   "source": [
    "### Deque"
   ]
  },
  {
   "cell_type": "code",
   "execution_count": 2,
   "metadata": {
    "collapsed": false
   },
   "outputs": [
    {
     "name": "stdout",
     "output_type": "stream",
     "text": [
      "extend    : deque(['a', 'b', 'c', 'd', 'e', 'f', 'g'])\n",
      "append    : deque(['a', 'b', 'c', 'd', 'e', 'f', 'g', 'h'])\n",
      "extendleft: deque(['g', 'f', 'e', 'd', 'c', 'b', 'a'])\n",
      "appendleft: deque(['h', 'g', 'f', 'e', 'd', 'c', 'b', 'a'])\n"
     ]
    }
   ],
   "source": [
    "import collections\n",
    "\n",
    "# Add to the right\n",
    "d = collections.deque()\n",
    "d.extend('abcdefg')\n",
    "print 'extend    :', d\n",
    "d.append('h')\n",
    "print 'append    :', d\n",
    "\n",
    "# Add to the left\n",
    "d = collections.deque()\n",
    "d.extendleft('abcdefg')\n",
    "print 'extendleft:', d\n",
    "d.appendleft('h')\n",
    "print 'appendleft:', d"
   ]
  },
  {
   "cell_type": "code",
   "execution_count": null,
   "metadata": {
    "collapsed": true
   },
   "outputs": [],
   "source": []
  }
 ],
 "metadata": {
  "kernelspec": {
   "display_name": "Python 2",
   "language": "python",
   "name": "python2"
  },
  "language_info": {
   "codemirror_mode": {
    "name": "ipython",
    "version": 2
   },
   "file_extension": ".py",
   "mimetype": "text/x-python",
   "name": "python",
   "nbconvert_exporter": "python",
   "pygments_lexer": "ipython2",
   "version": "2.7.11"
  }
 },
 "nbformat": 4,
 "nbformat_minor": 0
}
