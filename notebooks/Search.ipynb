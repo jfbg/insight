{
 "cells": [
  {
   "cell_type": "markdown",
   "metadata": {},
   "source": [
    "### Simple sequential search"
   ]
  },
  {
   "cell_type": "code",
   "execution_count": 2,
   "metadata": {
    "collapsed": false
   },
   "outputs": [
    {
     "name": "stdout",
     "output_type": "stream",
     "text": [
      "True\n",
      "False\n"
     ]
    }
   ],
   "source": [
    "def seqSearch(l,item):\n",
    "    pos = 0\n",
    "    found = False\n",
    "    \n",
    "    while pos < len(l) and not found:\n",
    "        if item == l[pos]:\n",
    "            found = True\n",
    "        else:\n",
    "            pos += 1\n",
    "            \n",
    "    return found\n",
    "\n",
    "list1 = [1,2,3,4,5,6,7]\n",
    "print(seqSearch(list1,3))\n",
    "print(seqSearch(list1,'F'))"
   ]
  },
  {
   "cell_type": "markdown",
   "metadata": {},
   "source": [
    "### Binary Search of an Ordered List"
   ]
  },
  {
   "cell_type": "code",
   "execution_count": 39,
   "metadata": {
    "collapsed": false
   },
   "outputs": [
    {
     "name": "stdout",
     "output_type": "stream",
     "text": [
      "True\n"
     ]
    }
   ],
   "source": [
    "def binSearch(inputList,item):\n",
    "    \n",
    "    found = False\n",
    "    pos = len(inputList) //2\n",
    "    rightLim = len(inputList)\n",
    "    leftLim = 0\n",
    "    prev_pos = -1\n",
    "    \n",
    "    \n",
    "    while prev_pos != pos:\n",
    "        prev_pos = pos\n",
    "        if inputList[pos] == item:\n",
    "            return True\n",
    "        if inputList[pos] < item:\n",
    "            leftLim = pos\n",
    "            pos = leftLim + (rightLim - leftLim) // 2\n",
    "        else:  #inputList[pos] > item\n",
    "            rightLim = pos\n",
    "            pos = leftLim + (rightLim - leftLim) // 2\n",
    "#         print leftLim, rightLim\n",
    "            \n",
    "    return found\n",
    "        \n",
    "ll = [0,1,2,3,5,6,7,8,10]\n",
    "print(binSearch(ll,8))\n",
    "    \n",
    "    "
   ]
  }
 ],
 "metadata": {
  "kernelspec": {
   "display_name": "Python 2",
   "language": "python",
   "name": "python2"
  },
  "language_info": {
   "codemirror_mode": {
    "name": "ipython",
    "version": 2
   },
   "file_extension": ".py",
   "mimetype": "text/x-python",
   "name": "python",
   "nbconvert_exporter": "python",
   "pygments_lexer": "ipython2",
   "version": "2.7.11"
  }
 },
 "nbformat": 4,
 "nbformat_minor": 0
}
