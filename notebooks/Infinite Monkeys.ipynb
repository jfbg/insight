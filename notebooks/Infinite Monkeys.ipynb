{
 "cells": [
  {
   "cell_type": "markdown",
   "metadata": {},
   "source": [
    "## Infinite Monkeys"
   ]
  },
  {
   "cell_type": "code",
   "execution_count": 13,
   "metadata": {
    "collapsed": false
   },
   "outputs": [],
   "source": [
    "\n",
    "\n",
    "# %qtconsole\n",
    "from random import random as rand\n",
    "import numpy as np\n",
    "\n",
    "def getSentenceInit(n):\n",
    "    # n in length of sentence to generate\n",
    "    letters = 'abcdefghijklmnopqrstuvwyxz '\n",
    "    newSentence = ''.join([letters[int(round(rand()*26))] for i in range(n)])\n",
    "    return newSentence\n",
    "\n",
    "def getSentence(sentenceOld, binScore):\n",
    "    letters = 'abcdefghijklmnopqrstuvwyxz '\n",
    "    l1 = list(sentenceOld)\n",
    "    for i in range(len(binScore)):\n",
    "        if binScore[i] is False:\n",
    "            l1[i] = letters[int(round(rand()*26))] \n",
    "    newSentence = ''.join(l1)\n",
    "    return newSentence\n",
    "\n",
    "def getScore(sentenceToCheck, sentenceTarget):\n",
    "    binScore = [list(sentenceToCheck)[i] == list(sentenceTarget)[i] \n",
    "                                                 for i in range(len(sentenceTarget))]\n",
    "    return len(binScore) - sum(binScore), binScore\n",
    "    \n",
    "    \n",
    "\n"
   ]
  },
  {
   "cell_type": "code",
   "execution_count": 17,
   "metadata": {
    "collapsed": false,
    "scrolled": false
   },
   "outputs": [
    {
     "name": "stdout",
     "output_type": "stream",
     "text": [
      "146.13\n",
      "54.055093192\n"
     ]
    }
   ],
   "source": [
    "sentenceTarget = 'methinks it is like a weasel'\n",
    "\n",
    "n = 100\n",
    "total_iter = []\n",
    "for pp in range(n):\n",
    "    newSentence = getSentenceInit(len(sentenceTarget))\n",
    "#     print(newSentence)\n",
    "    score, binScore = getScore(newSentence, sentenceTarget)\n",
    "#     print(score)\n",
    "    # print(binScore)\n",
    "    iter1 = 1\n",
    "    while score != 0:\n",
    "        newSentence = getSentence(newSentence,binScore)\n",
    "#         print(str(iter1) + '  ' + newSentence)\n",
    "        score, binScore = getScore(newSentence, sentenceTarget)\n",
    "        iter1 = iter1 + 1\n",
    "    total_iter.append(iter1)\n",
    "    #     print(score)\n",
    "    \n",
    "print(np.mean(total_iter))\n",
    "print(np.std(total_iter))\n"
   ]
  },
  {
   "cell_type": "code",
   "execution_count": null,
   "metadata": {
    "collapsed": true
   },
   "outputs": [],
   "source": []
  }
 ],
 "metadata": {
  "kernelspec": {
   "display_name": "Python 2",
   "language": "python",
   "name": "python2"
  },
  "language_info": {
   "codemirror_mode": {
    "name": "ipython",
    "version": 2
   },
   "file_extension": ".py",
   "mimetype": "text/x-python",
   "name": "python",
   "nbconvert_exporter": "python",
   "pygments_lexer": "ipython2",
   "version": "2.7.11"
  }
 },
 "nbformat": 4,
 "nbformat_minor": 0
}
