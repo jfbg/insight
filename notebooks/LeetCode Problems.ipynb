{
 "cells": [
  {
   "cell_type": "code",
   "execution_count": 121,
   "metadata": {
    "collapsed": true
   },
   "outputs": [],
   "source": [
    "%qtconsole"
   ]
  },
  {
   "cell_type": "markdown",
   "metadata": {},
   "source": [
    "Write a function that takes a string as input and returns the string reversed.\n",
    "\n",
    "Example:\n",
    "Given s = \"hello\", return \"olleh\"."
   ]
  },
  {
   "cell_type": "code",
   "execution_count": 1,
   "metadata": {
    "collapsed": true
   },
   "outputs": [],
   "source": [
    "class Solution(object):\n",
    "    def reverseString(self, s):\n",
    "        \"\"\"\n",
    "        :type s: str\n",
    "        :rtype: str\n",
    "        \"\"\"\n",
    "        \n",
    "        \n",
    "        lists = list(s)\n",
    "        lenlists = len(lists)\n",
    "        for x in range(lenlists/2):\n",
    "            lists[x], lists[-1-x] = lists[-1-x], lists[x]\n",
    "        \n",
    "        return \"\".join(lists)\n",
    "    \n",
    "# 107 ms"
   ]
  },
  {
   "cell_type": "code",
   "execution_count": 46,
   "metadata": {
    "collapsed": false
   },
   "outputs": [
    {
     "name": "stdout",
     "output_type": "stream",
     "text": [
      "Je ne suis pas votre amie\n",
      "eima ertov sap sius en eJ\n"
     ]
    }
   ],
   "source": [
    "class Solution(object):\n",
    "    def reverseString(self, s):\n",
    "        \"\"\"\n",
    "        :type s: str\n",
    "        :rtype: str\n",
    "        \"\"\"\n",
    "        \n",
    "        ls = list(s)\n",
    "        ls.reverse()\n",
    "        return \"\".join(ls)\n",
    "\n",
    "teststring = 'Je ne suis pas votre amie'\n",
    "test = Solution().reverseString(teststring)\n",
    "print(teststring)\n",
    "print(test)\n",
    "    \n",
    "# 68 ms"
   ]
  },
  {
   "cell_type": "markdown",
   "metadata": {},
   "source": [
    "Write a function that takes a string as input and reverse only the vowels of a string.\n",
    "\n",
    "Example 1:\n",
    "Given s = \"hello\", return \"holle\".\n",
    "\n",
    "Example 2:\n",
    "Given s = \"leetcode\", return \"leotcede\".\n",
    "\n",
    "Note:\n",
    "The vowels does not include the letter \"y\"."
   ]
  },
  {
   "cell_type": "code",
   "execution_count": 76,
   "metadata": {
    "collapsed": false
   },
   "outputs": [
    {
     "name": "stdout",
     "output_type": "stream",
     "text": [
      "Je ne suis pas votre amie\n",
      "Je ni saes pos vatri umee\n"
     ]
    }
   ],
   "source": [
    "class Solution(object):\n",
    "    def reverseVowels(self, s):\n",
    "        \"\"\"\n",
    "        :type s: str\n",
    "        :rtype: str\n",
    "        \"\"\"\n",
    "        \n",
    "        vowels = 'aeiouAEIOU'\n",
    "        \n",
    "        lists = list(s)\n",
    "        lenlists = len(lists)\n",
    "        \n",
    "        i1 = 0\n",
    "        i2 = 1\n",
    "        while i1 < lenlists-i2:\n",
    "            if lists[i1] in vowels and lists[lenlists-i2] in vowels:\n",
    "                lists[i1], lists[lenlists-i2] = lists[lenlists-i2], lists[i1]\n",
    "                i1 += 1\n",
    "                i2 += 1\n",
    "            elif lists[i1] in vowels and lists[lenlists-i2] not in vowels:\n",
    "                i2 += 1\n",
    "            elif lists[i1] not in vowels and lists[lenlists-i2] in vowels:\n",
    "                i1 += 1\n",
    "            else:\n",
    "                i1 += 1\n",
    "                i2 += 1\n",
    "            \n",
    "        \n",
    "        return \"\".join(lists)\n",
    "        \n",
    "        \n",
    "teststring = 'Je ne suis pas votre amie'\n",
    "test = Solution().reverseVowels(teststring)\n",
    "print(teststring)\n",
    "print(test)        "
   ]
  },
  {
   "cell_type": "markdown",
   "metadata": {},
   "source": [
    "Given a roman numeral, convert it to an integer.\n",
    "\n",
    "Input is guaranteed to be within the range from 1 to 3999."
   ]
  },
  {
   "cell_type": "code",
   "execution_count": 134,
   "metadata": {
    "collapsed": false
   },
   "outputs": [
    {
     "name": "stdout",
     "output_type": "stream",
     "text": [
      "MCMLXXXIII\n",
      "1983\n"
     ]
    }
   ],
   "source": [
    "class Solution(object):\n",
    "    def romanToInt(self, s):\n",
    "        \"\"\"\n",
    "        :type s: str\n",
    "        :rtype: int\n",
    "        \"\"\"\n",
    "        \n",
    "        # I, V, X, L, C, D, M\n",
    "        \n",
    "        # examples: MCMLXXXIII --> 1983\n",
    "        \n",
    "        romanDict = {'I':1, 'V':5, 'X':10,'L':50, 'C': 100, 'D':500, 'M':1000}\n",
    "        lists = list(s)\n",
    "        numlist = [int(romanDict[i]) for i in lists]\n",
    "        numlist.extend([0])\n",
    "\n",
    "        numValue = 0\n",
    "        i = 0\n",
    "        while i < len(numlist)-1:\n",
    "            numtemp = 0\n",
    "            index = 0\n",
    "            while numlist[i] == numlist[i+index]:\n",
    "                numtemp = numtemp + numlist[i+index]\n",
    "                index += 1\n",
    "            if numlist[i] > numlist[i+index]:\n",
    "                numValue += numtemp\n",
    "                i += index\n",
    "            else:\n",
    "                numValue += numlist[i+index] - numtemp\n",
    "                i += index + 1\n",
    "                \n",
    "        return numValue\n",
    "            \n",
    "        \n",
    "testRoman = 'MCMLXXXIII'\n",
    "test = Solution().romanToInt(testRoman)\n",
    "print(testRoman)\n",
    "print(test)          "
   ]
  },
  {
   "cell_type": "code",
   "execution_count": null,
   "metadata": {
    "collapsed": true
   },
   "outputs": [],
   "source": []
  }
 ],
 "metadata": {
  "kernelspec": {
   "display_name": "Python 2",
   "language": "python",
   "name": "python2"
  },
  "language_info": {
   "codemirror_mode": {
    "name": "ipython",
    "version": 2
   },
   "file_extension": ".py",
   "mimetype": "text/x-python",
   "name": "python",
   "nbconvert_exporter": "python",
   "pygments_lexer": "ipython2",
   "version": "2.7.11"
  }
 },
 "nbformat": 4,
 "nbformat_minor": 0
}
