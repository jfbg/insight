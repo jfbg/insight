{
 "cells": [
  {
   "cell_type": "code",
   "execution_count": 20,
   "metadata": {
    "collapsed": true
   },
   "outputs": [],
   "source": [
    "class Node:\n",
    "    def __init__(self, val=0, nnext=None):\n",
    "        self.value = val\n",
    "        self.next = nnext\n",
    "\n",
    "class List:\n",
    "\n",
    "    def __init__(self):\n",
    "        self.head = None\n",
    "    \n",
    "    def add_last(self, valueToAdd):\n",
    "        newNode = Node(valueToAdd, None)\n",
    "        if self.head is None:\n",
    "            self.head = newNode\n",
    "        else:\n",
    "            newpointer = self.head\n",
    "            while newpointer.next != None:\n",
    "                newpointer = newpointer.next\n",
    "            newpointer.next = newNode\n",
    "      \n",
    "    def to_list(self):\n",
    "        l = []\n",
    "        p = self.head\n",
    "        while p!=None:\n",
    "            l.append(p.value)\n",
    "            p = p.next\n",
    "        return l\n",
    "    \n",
    "    def reverse(self):\n",
    "        newpointer = self.head\n",
    "        nodelast = None\n",
    "        while newpointer.next != None:\n",
    "            currentnode = newpointer\n",
    "            newpointer = currentnode.next\n",
    "            currentnode.next = nodelast\n",
    "            nodelast = currentnode\n",
    "        self.head = newpointer\n",
    "        self.head.next = nodelast\n",
    "\n",
    "a = List()\n",
    "a.add_last(1)\n",
    "a.add_last(2)\n",
    "a.add_last(3)\n",
    "a.add_last(4)\n",
    "a.add_last(5)\n",
    "a.add_last(6)\n",
    "a.add_last(7)\n",
    "print(a.to_list())\n",
    "a.reverse()\n",
    "print(a.to_list())"
   ]
  },
  {
   "cell_type": "code",
   "execution_count": null,
   "metadata": {
    "collapsed": true
   },
   "outputs": [],
   "source": []
  }
 ],
 "metadata": {
  "kernelspec": {
   "display_name": "Python 2",
   "language": "python",
   "name": "python2"
  },
  "language_info": {
   "codemirror_mode": {
    "name": "ipython",
    "version": 2
   },
   "file_extension": ".py",
   "mimetype": "text/x-python",
   "name": "python",
   "nbconvert_exporter": "python",
   "pygments_lexer": "ipython2",
   "version": "2.7.11"
  }
 },
 "nbformat": 4,
 "nbformat_minor": 0
}
