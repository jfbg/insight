{
 "cells": [
  {
   "cell_type": "markdown",
   "metadata": {},
   "source": [
    "## Probability Problems"
   ]
  },
  {
   "cell_type": "code",
   "execution_count": 1,
   "metadata": {
    "collapsed": false
   },
   "outputs": [],
   "source": [
    "import numpy as np\n",
    "from numpy.random import binomial\n",
    "from fractions import *\n",
    "from math import factorial as fac\n",
    "%qtconsole\n",
    "\n",
    "   "
   ]
  },
  {
   "cell_type": "code",
   "execution_count": 1,
   "metadata": {
    "collapsed": false
   },
   "outputs": [
    {
     "data": {
      "text/html": [
       "\n",
       "        <iframe\n",
       "            width=\"400\"\n",
       "            height=\"300\"\n",
       "            src=\"https://www.youtube.com/embed/KpTY6S8edYc\"\n",
       "            frameborder=\"0\"\n",
       "            allowfullscreen\n",
       "        ></iframe>\n",
       "        "
      ],
      "text/plain": [
       "<IPython.lib.display.YouTubeVideo at 0x111733790>"
      ]
     },
     "execution_count": 1,
     "metadata": {},
     "output_type": "execute_result"
    }
   ],
   "source": [
    "from IPython.display import YouTubeVideo\n",
    "YouTubeVideo('KpTY6S8edYc')"
   ]
  },
  {
   "cell_type": "markdown",
   "metadata": {},
   "source": [
    "### Question 1\n",
    "\n",
    "Given a room of N people, what is the probability that at least two people share a birthday?"
   ]
  },
  {
   "cell_type": "code",
   "execution_count": 18,
   "metadata": {
    "collapsed": false
   },
   "outputs": [
    {
     "name": "stdout",
     "output_type": "stream",
     "text": [
      "Probability that 6 persons share a birthday is: 0.0404624836491\n"
     ]
    }
   ],
   "source": [
    "# Probability that first person shares a birthday with itself:\n",
    "P1 = 365/365.\n",
    "# Probability that second person shares a birthday with no one else:\n",
    "P2 = P1 * 364/365.\n",
    "# Probability that third person shares a birthday with no one else:\n",
    "P3 = P1 * P2 * 363/365.\n",
    "\n",
    "# PN =  365/365 * 364/365 * 363/365 * ... * 365-(N-1)/365\n",
    "#    =  365! / (365-N)! / (365**N)\n",
    "\n",
    "from math import factorial as fac\n",
    "def probBDN(N):\n",
    "    if N > 365:\n",
    "        P = 1.\n",
    "    else:\n",
    "        P = 1-((fac(365) / fac(365-N)) / float(365**N))\n",
    "    print('Probability that '+str(N)+' persons share a birthday is: '+str(P))\n",
    "    \n",
    "probBDN(6)"
   ]
  },
  {
   "cell_type": "markdown",
   "metadata": {},
   "source": [
    "### Question 2\n",
    "\n",
    "Companies A and B make computer chips. Company A’s chips are defective 25% of the time, and Company B’s chips are defective 50% of the time. We buy 25 % of our chips from Company B, and the rest from company A.\n",
    "\n",
    "Q1: What’s the probability a randomly selected chip we’ve purchased is defective?"
   ]
  },
  {
   "cell_type": "code",
   "execution_count": 19,
   "metadata": {
    "collapsed": false
   },
   "outputs": [
    {
     "name": "stdout",
     "output_type": "stream",
     "text": [
      "Q1:0.3125\n"
     ]
    }
   ],
   "source": [
    "# P(B) = 0.25\n",
    "# P(A) = 0.75\n",
    "# P(d|A) = 0.25\n",
    "# P(d|B) = 0.5\n",
    "PB = .25\n",
    "PA = .75\n",
    "PdA = .25\n",
    "PdB = .5\n",
    "\n",
    "# P(d) = P(d|A)*P(A) + P(d|B) * P(B)\n",
    "Pd = PdA*PA + PdB*PB\n",
    "\n",
    "print('Q1:' + str(Pd))"
   ]
  },
  {
   "cell_type": "markdown",
   "metadata": {},
   "source": [
    "Q2: One of our chips is defective. What is the probability it was manufactured by company A?"
   ]
  },
  {
   "cell_type": "code",
   "execution_count": 22,
   "metadata": {
    "collapsed": false
   },
   "outputs": [
    {
     "name": "stdout",
     "output_type": "stream",
     "text": [
      "Q2:0.6\n"
     ]
    }
   ],
   "source": [
    "# P(A|d) = P(d|A)*P(A) / (P(d|A)*P(A) + P(d|B)*P(B))\n",
    "PAd = PdA*PA / (PdA*PA + PdB*PB)\n",
    "print('Q2:' + str(PAd))"
   ]
  },
  {
   "cell_type": "markdown",
   "metadata": {},
   "source": [
    "### Monty Hall\n",
    "\n",
    "You’ve probably heard this one. It is arguably the most contentious problem of probability ever to reach the mainstream media. The basic question is as follows:\n",
    "\n",
    "You are a contestant on a game show hosted by Monty Hall. You are shown three doors (labeled A, B, and C) and asked to choose one of them. Two of these doors conceal worthless prizes but behind one is a fantastic prize. The prizes are placed at random, but Monty knows their placement.\n",
    "\n",
    "Suppose you choose door A. Without opening door A Monty opens one of the other two doors to reveal a worthless prize. Monty then offers you the choice of staying with door A or switching to the other, unopened door.\n",
    "\n",
    "The question is, should you switch or should you stay with door A?\n",
    "\n",
    "First, decide whether you should stay with door A or switch to the other unopened door. Next, write a program that simulates this game being played 1 million times and use your program to con rm your answer."
   ]
  },
  {
   "cell_type": "code",
   "execution_count": null,
   "metadata": {
    "collapsed": true
   },
   "outputs": [],
   "source": []
  }
 ],
 "metadata": {
  "kernelspec": {
   "display_name": "Python 2",
   "language": "python",
   "name": "python2"
  },
  "language_info": {
   "codemirror_mode": {
    "name": "ipython",
    "version": 2
   },
   "file_extension": ".py",
   "mimetype": "text/x-python",
   "name": "python",
   "nbconvert_exporter": "python",
   "pygments_lexer": "ipython2",
   "version": "2.7.11"
  }
 },
 "nbformat": 4,
 "nbformat_minor": 0
}
