{
 "cells": [
  {
   "cell_type": "markdown",
   "metadata": {},
   "source": [
    "# Probability Problems"
   ]
  },
  {
   "cell_type": "markdown",
   "metadata": {},
   "source": [
    "## A short discussion of \\# 1 from the exercies from Peter Komar\n",
    "\n",
    "The probability of rain on Saturday and Sunday are 50% and 20%, respectively. Any rain will be light\n",
    "with 90%, and heavy with 10% probability on Saturday. Any rain on Sunday will be light.\n",
    "\n",
    "Q1: What is the probability of light rain on both days?"
   ]
  },
  {
   "cell_type": "code",
   "execution_count": 1,
   "metadata": {
    "collapsed": false
   },
   "outputs": [
    {
     "name": "stdout",
     "output_type": "stream",
     "text": [
      "0.09\n"
     ]
    }
   ],
   "source": [
    "P = 0.5*.9 * .2*1.\n",
    "print(P)"
   ]
  },
  {
   "cell_type": "markdown",
   "metadata": {},
   "source": [
    "Q2: What is the probability of raining during the weekend?"
   ]
  },
  {
   "cell_type": "code",
   "execution_count": 2,
   "metadata": {
    "collapsed": false
   },
   "outputs": [
    {
     "name": "stdout",
     "output_type": "stream",
     "text": [
      "0.6\n"
     ]
    }
   ],
   "source": [
    "P = .5*.8 + .5*.2 + .5*.2\n",
    "print(P)"
   ]
  },
  {
   "cell_type": "markdown",
   "metadata": {},
   "source": [
    "## Inference and probability problems.\n",
    "\n",
    "1. A student is taking a one-hour-time-limit makeup examination.  Suppose the probability that the student will finish the exam in less than x hours is x/2, for all 0<= x<= 1.  Fiven that the student is still working after .75 hours, what is the conditional probability that the full hour is used? "
   ]
  },
  {
   "cell_type": "code",
   "execution_count": null,
   "metadata": {
    "collapsed": true
   },
   "outputs": [],
   "source": [
    "# Bayes: P(A|B) = P(B|A)*P(A)/P(B) = P(AB)/P(B) where P(AB) = A intersect B, so both events happen\n",
    "\n",
    "L_x   = event they finish in x hour\n",
    "P(L_x) = x/2\n",
    "\n",
    "P(1 | )\n",
    "\n",
    "0.8\n"
   ]
  },
  {
   "cell_type": "markdown",
   "metadata": {},
   "source": [
    "2. An insurance company believes that people can be divided into two classes:  those who are accident prone and those who are not.  Their statistics show that an accident-prone person will have an accident at some time within a fixed 1-year period with probability 0.4, whereas this probability decreases to 0.2 for a non-accident-prone person.  If we assume that 30 percent of the population is accident prone, what is the probability that a new policyholder will have an accident within a year of purchasing a policy?  As a follow-up, suppose that a new policyholder has an accident within ayear of purchasing a policy.  What is the probability she is accident prone?"
   ]
  },
  {
   "cell_type": "code",
   "execution_count": 6,
   "metadata": {
    "collapsed": false
   },
   "outputs": [
    {
     "name": "stdout",
     "output_type": "stream",
     "text": [
      "0.26\n",
      "0.461538461538\n"
     ]
    }
   ],
   "source": [
    "# L_1 = event that accident happen within one year\n",
    "\n",
    "#P(AP) = .3\n",
    "#P(NAP) = .7\n",
    "\n",
    "#P(A|AP) = .4\n",
    "#P(A|NAP) = .2\n",
    "\n",
    "#P(A) = P(A|AP)*P(A) + P(A|NAP)*P(NAP)\n",
    "P = .4*.3+.2*.7\n",
    "print(P)\n",
    "\n",
    "# P(AP|A) = P(A|AP)*P(AP)/(P(A|AP)*P(AP) + P(A|NAP)*P(NAP))\n",
    "\n",
    "P2 = .4*.3/(.4*.3 + .2*.7)\n",
    "print(P2)"
   ]
  },
  {
   "cell_type": "markdown",
   "metadata": {},
   "source": [
    "3. There are three types of coins which have different probabilities of landing heads when tossed.\n",
    "\n",
    " * Type A coins are fair, with probability .5 of heads\n",
    " * Type B coins are bent and have probability .6 of heads\n",
    " * Type C coins are bent and have probability .9 of heads\n",
    "\n",
    "Suppose I have a drawer containing 4 coins: 2 of type A, 1 of type B, and 1 of type C. I reach into the drawer and pick a coin at random. Without showing you the coin I flip it once and get heads. What is the probability it is type A? Type B? Type C?"
   ]
  },
  {
   "cell_type": "code",
   "execution_count": 10,
   "metadata": {
    "collapsed": false
   },
   "outputs": [
    {
     "name": "stdout",
     "output_type": "stream",
     "text": [
      "0.4\n",
      "0.24\n",
      "0.36\n"
     ]
    }
   ],
   "source": [
    "# PRIOR PROBABILITIES\n",
    "PA = 2./4\n",
    "PB = 1./4\n",
    "PC = 1./4\n",
    "\n",
    "\n",
    "PhA = .5\n",
    "PhB = .6\n",
    "PhC = .9\n",
    "\n",
    "sumA = PhA*PA + PhB*PB + PhC*PC\n",
    "PAh = PhA*PA/sumA\n",
    "PBh = PhB*PB/sumA\n",
    "PCh = PhC*PC/sumA\n",
    "\n",
    "print(PAh)\n",
    "print(PBh)\n",
    "print(PCh)"
   ]
  },
  {
   "cell_type": "markdown",
   "metadata": {},
   "source": [
    "## Expected value problems\n",
    "\n",
    "1. There are 2 coins in a bin.  When one of them is flipped it lands on heads with probability 0.6, and when the other coin is flipped it lands on heads with probability 0.3.  One of these coins is chosen randomly and then flipped.  Without knowing which coin is chosen, you can bet any amount up to 10 dollars and then you either win that amount if teh coin comes up heads aor lose it if it comes up tails.  Suppose however, that an insider is willing to selly ou, for an amount C, the information as to whihc coin was selected.  What is your expected payoff if you buy this information?"
   ]
  },
  {
   "cell_type": "code",
   "execution_count": 13,
   "metadata": {
    "collapsed": false
   },
   "outputs": [
    {
     "name": "stdout",
     "output_type": "stream",
     "text": [
      "-2.0\n",
      "EX is X/10, where X is between [0,10]\n"
     ]
    }
   ],
   "source": [
    "PC1 = 0.5\n",
    "PC2 = 0.5\n",
    "\n",
    "PhC1 = .6\n",
    "PhC2 = .3\n",
    "\n",
    "X = 20;\n",
    "\n",
    "EX = PC1*PhC1*X + PC1*(1-PhC1)*-X + PC2*PhC2*X + PC2*(1-PhC2)*-X\n",
    "print(EX)\n",
    "print('EX is -X/10, where X is between [0,10]')\n",
    "\n",
    "EX2 = PC1*PhC1*X + PC1*(1-PhC1)*-X + PC2*PhC2*X + PC2*(1-PhC2)*-X"
   ]
  },
  {
   "cell_type": "markdown",
   "metadata": {},
   "source": [
    "2. At the end of basketball practice, a team’s best free throw shooter (80%) steps to the line. If she makes the free throw, practice is over. If, on the other hand, she misses, the entire team must run a “killer”, the player tries to shoot another free throw, and the process is repeated until she finally makes a free throw. What are the expected number of “killers” the team will run? What assumptions are being made?"
   ]
  },
  {
   "cell_type": "code",
   "execution_count": null,
   "metadata": {
    "collapsed": true
   },
   "outputs": [],
   "source": [
    "PT = 0.8\n",
    "PKT = 0.\n",
    "PKnT = 1.\n",
    "\n",
    "\n",
    "\n"
   ]
  }
 ],
 "metadata": {
  "kernelspec": {
   "display_name": "Python 2",
   "language": "python",
   "name": "python2"
  },
  "language_info": {
   "codemirror_mode": {
    "name": "ipython",
    "version": 2
   },
   "file_extension": ".py",
   "mimetype": "text/x-python",
   "name": "python",
   "nbconvert_exporter": "python",
   "pygments_lexer": "ipython2",
   "version": "2.7.11"
  }
 },
 "nbformat": 4,
 "nbformat_minor": 0
}
