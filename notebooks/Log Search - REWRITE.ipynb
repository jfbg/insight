{
 "cells": [
  {
   "cell_type": "code",
   "execution_count": null,
   "metadata": {
    "collapsed": true
   },
   "outputs": [],
   "source": [
    "pick a number from 1 to n. You have to guess which number I picked.\n",
    "\n",
    "Every time you guess wrong, I'll tell you whether the number is higher or lower.\n",
    "\n",
    "You call a pre-defined API guess(int num) which returns 3 possible results (-1, 1, or 0):\n",
    "  \n",
    "range(n)\n",
    "search through that range and assess if each number is the right one with API\n",
    "if you get -1, then you only search the lower numbers\n",
    "if you get 1, then you only search the higher numbers\n",
    "\n",
    "Test, n = 10, randomnumber = 3 X\n",
    "Test, n = 0, randomnumber = 0   X\n",
    "\n",
    "Test, n = 10, randomnumber = 0   X\n",
    "Test, n = 10, randomnumber = 9   X\n",
    "Test, n = 10, randomnumber = 10  X\n",
    "\n",
    "def guessMe(n):\n",
    "\n",
    "\tleftp =  1\t\t\t\t\t\t\t 1\n",
    "  rightp = n+1  \t\t  \t\t\t10\t\n",
    "  pivot = (rightp+leftp)/2  5\n",
    "  \n",
    "  while guess(pivot) != 0\t\t\t\t\t1\n",
    "  \t\tif guess(pivot) > 0 \n",
    "      \tleftp = pivot\t\t\t\t\t\t\t9\n",
    "      \tpivot = (rightp+leftp)/2\t9\n",
    "      else:\n",
    "      \trightp = pivot\t\t\t\t\t\t\t\t\t\t\t\n",
    "        pivot = (rightp+leftp)/2\t\n",
    "        \n",
    "  return pivot"
   ]
  }
 ],
 "metadata": {
  "kernelspec": {
   "display_name": "Python 2",
   "language": "python",
   "name": "python2"
  },
  "language_info": {
   "codemirror_mode": {
    "name": "ipython",
    "version": 2
   },
   "file_extension": ".py",
   "mimetype": "text/x-python",
   "name": "python",
   "nbconvert_exporter": "python",
   "pygments_lexer": "ipython2",
   "version": "2.7.11"
  }
 },
 "nbformat": 4,
 "nbformat_minor": 0
}
