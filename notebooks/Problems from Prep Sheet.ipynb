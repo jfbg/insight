{
 "cells": [
  {
   "cell_type": "markdown",
   "metadata": {},
   "source": [
    "## Example problems from the review sheet"
   ]
  },
  {
   "cell_type": "code",
   "execution_count": null,
   "metadata": {
    "collapsed": true
   },
   "outputs": [],
   "source": [
    "# %qtconsole"
   ]
  },
  {
   "cell_type": "markdown",
   "metadata": {},
   "source": [
    "### Write a function that lists all three-number lock combinations, where each number is between 0 and 30 _with no repeats_."
   ]
  },
  {
   "cell_type": "code",
   "execution_count": 74,
   "metadata": {
    "collapsed": false
   },
   "outputs": [
    {
     "name": "stdout",
     "output_type": "stream",
     "text": [
      "[[1, 2, 3], [1, 2, 4], [1, 2, 5], [1, 3, 2], [1, 3, 4], [1, 3, 5], [1, 4, 2], [1, 4, 3], [1, 4, 5], [1, 5, 2], [1, 5, 3], [1, 5, 4], [2, 1, 3], [2, 1, 4], [2, 1, 5], [2, 3, 1], [2, 3, 4], [2, 3, 5], [2, 4, 1], [2, 4, 3], [2, 4, 5], [2, 5, 1], [2, 5, 3], [2, 5, 4], [3, 1, 2], [3, 1, 4], [3, 1, 5], [3, 2, 1], [3, 2, 4], [3, 2, 5], [3, 4, 1], [3, 4, 2], [3, 4, 5], [3, 5, 1], [3, 5, 2], [3, 5, 4], [4, 1, 2], [4, 1, 3], [4, 1, 5], [4, 2, 1], [4, 2, 3], [4, 2, 5], [4, 3, 1], [4, 3, 2], [4, 3, 5], [4, 5, 1], [4, 5, 2], [4, 5, 3], [5, 1, 2], [5, 1, 3], [5, 1, 4], [5, 2, 1], [5, 2, 3], [5, 2, 4], [5, 3, 1], [5, 3, 2], [5, 3, 4], [5, 4, 1], [5, 4, 2], [5, 4, 3]]\n"
     ]
    }
   ],
   "source": [
    "n1, n2 = 0, 5\n",
    "comb = set(range(n1+1,n2+1))\n",
    "# allCombinations = [[i, j, k] for i in comb for j in comb.difference({i}) for k in comb.difference({i}).difference({j})]\n",
    "allCombinations = [[i, j, k] for i in comb for j in comb for k in comb if i != j and i != k and j != k]\n",
    "# The set differences make sure there are no repeat\n",
    "print(allCombinations)"
   ]
  },
  {
   "cell_type": "markdown",
   "metadata": {},
   "source": [
    "### Then, write a function which generalizes to more than three numbers in the combination. "
   ]
  },
  {
   "cell_type": "code",
   "execution_count": 88,
   "metadata": {
    "collapsed": false
   },
   "outputs": [
    {
     "name": "stdout",
     "output_type": "stream",
     "text": [
      "[[1, 2, 3, 3, 2], [1, 2, 3, 3, 2], [2, 1, 3, 3, 1], [2, 1, 3, 3, 1], [3, 1, 2, 2, 1], [3, 1, 2, 2, 1]]\n"
     ]
    }
   ],
   "source": [
    "n1, n2 = 0, 3\n",
    "numK = 3\n",
    "comb = set(range(n1+1,n2+1))\n",
    "allCombinations = []\n",
    "\n",
    "for i in comb:\n",
    "    comb_next = [i]\n",
    "    diff = {i}\n",
    "    comb_diff = comb.difference(diff)\n",
    "    for j in comb_diff:\n",
    "        comb_next.append(j)\n",
    "        diff2 = diff.union({j})\n",
    "        comb_diff2 = comb_diff.difference(diff2)\n",
    "        for k in comb_diff2:\n",
    "            comb_next.append(k)\n",
    "            allCombinations.append(comb_next)\n",
    "            \n",
    "print(allCombinations)\n",
    "    \n",
    "        "
   ]
  },
  {
   "cell_type": "code",
   "execution_count": 75,
   "metadata": {
    "collapsed": true
   },
   "outputs": [],
   "source": [
    "n1, n2 = 0, 30\n",
    "numK = 3\n",
    "comb = set(range(n1+1,n2+1))\n",
    "allCombinations = []\n",
    "\n",
    "def getComb(comb,allCombinations,N):\n",
    "    if N == 0:\n",
    "        return allCombinations\n",
    "    else:\n",
    "        newcombs"
   ]
  },
  {
   "cell_type": "markdown",
   "metadata": {},
   "source": [
    "### Then, write a function which generalizes to longer combinations, and doesn’t store all the combinations in a list (if you hadn’t already in the second part)."
   ]
  },
  {
   "cell_type": "code",
   "execution_count": null,
   "metadata": {
    "collapsed": true
   },
   "outputs": [],
   "source": []
  }
 ],
 "metadata": {
  "kernelspec": {
   "display_name": "Python 2",
   "language": "python",
   "name": "python2"
  },
  "language_info": {
   "codemirror_mode": {
    "name": "ipython",
    "version": 2
   },
   "file_extension": ".py",
   "mimetype": "text/x-python",
   "name": "python",
   "nbconvert_exporter": "python",
   "pygments_lexer": "ipython2",
   "version": "2.7.11"
  }
 },
 "nbformat": 4,
 "nbformat_minor": 0
}
