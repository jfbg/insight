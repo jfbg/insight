{
 "cells": [
  {
   "cell_type": "markdown",
   "metadata": {},
   "source": [
    "## Forward Probability"
   ]
  },
  {
   "cell_type": "code",
   "execution_count": 111,
   "metadata": {
    "collapsed": false
   },
   "outputs": [],
   "source": [
    "import numpy as np\n",
    "from numpy.random import binomial\n",
    "# %qtconsole\n",
    "\n",
    "\n",
    "# From Kyle Willet\n",
    "def compare(analytic,N,f):\n",
    "    errval = err(f,N)\n",
    "    successes = sum(f)\n",
    "    print \"Analytic prediction: {:.2f}%.\".format(analytic*100.)\n",
    "    print \"Monte Carlo: {:.2f} +- {:.2f}%.\".format(successes/float(N)*100.,errval*100.)\n",
    "    \n",
    "def err(fx,N):\n",
    "    # http://www.northeastern.edu/afeiguin/phys5870/phys5870/node71.html\n",
    "    f2 = [x*x for x in fx]\n",
    "    return np.sqrt((1./N * sum(f2) - (1./N * sum(fx))**2)/float(N))\n",
    "    \n",
    "    "
   ]
  },
  {
   "cell_type": "markdown",
   "metadata": {},
   "source": [
    "### Question 1"
   ]
  },
  {
   "cell_type": "code",
   "execution_count": 150,
   "metadata": {
    "collapsed": true
   },
   "outputs": [],
   "source": [
    "N = 1000 # Set number of trials for MC estimation\n",
    "\n",
    "p_rain_sat = .5\n",
    "p_rain_sun = .2\n",
    "\n",
    "rain_light_sat = .9\n",
    "rain_heavy_sat = .1\n",
    "\n",
    "rain_light_sun = 1.\n",
    "rain_heavy_sun = 0."
   ]
  },
  {
   "cell_type": "code",
   "execution_count": 151,
   "metadata": {
    "collapsed": false
   },
   "outputs": [
    {
     "name": "stdout",
     "output_type": "stream",
     "text": [
      "Analytic prediction: 9.00%.\n",
      "Monte Carlo: 8.80 +- 0.90%.\n"
     ]
    }
   ],
   "source": [
    "# Q1 - Analytical Approach\n",
    "# Probability of light rain on both days\n",
    "\n",
    "# Analytical solution\n",
    "ana_sol = p_rain_sat * rain_light_sat * p_rain_sun * rain_light_sun\n",
    "\n",
    "# MC estimation\n",
    "MC_sol = []\n",
    "for i in range(N):\n",
    "    f = 0\n",
    "    if binomial(1,p_rain_sat):\n",
    "        if binomial(1,rain_light_sat):\n",
    "            if binomial(1,p_rain_sun):\n",
    "                if binomial(1,rain_light_sun):\n",
    "                    f = 1\n",
    "    MC_sol.append(f)\n",
    "    \n",
    "compare(ana_sol,N,MC_sol)  "
   ]
  },
  {
   "cell_type": "code",
   "execution_count": 152,
   "metadata": {
    "collapsed": false
   },
   "outputs": [
    {
     "name": "stdout",
     "output_type": "stream",
     "text": [
      "Analytic prediction: 60.00%.\n",
      "Monte Carlo: 59.70 +- 1.55%.\n"
     ]
    }
   ],
   "source": [
    "#Q2 Probability in rains on both days\n",
    "\n",
    "# Analytical solution\n",
    "ana_sol = (p_rain_sat*(1-p_rain_sun)) + (p_rain_sun*(1-p_rain_sat)) + (p_rain_sat * p_rain_sun)\n",
    "\n",
    "# MC estimation\n",
    "MC_sol = []\n",
    "for i in range(N):\n",
    "    f = 0\n",
    "    if binomial(1,p_rain_sat):\n",
    "        f = 1\n",
    "    if binomial(1,p_rain_sun):\n",
    "        f = 1\n",
    "    MC_sol.append(f)\n",
    "    \n",
    "compare(ana_sol,N,MC_sol) "
   ]
  },
  {
   "cell_type": "markdown",
   "metadata": {},
   "source": [
    "### Question 2"
   ]
  },
  {
   "cell_type": "code",
   "execution_count": null,
   "metadata": {
    "collapsed": true
   },
   "outputs": [],
   "source": []
  }
 ],
 "metadata": {
  "kernelspec": {
   "display_name": "Python 2",
   "language": "python",
   "name": "python2"
  },
  "language_info": {
   "codemirror_mode": {
    "name": "ipython",
    "version": 2
   },
   "file_extension": ".py",
   "mimetype": "text/x-python",
   "name": "python",
   "nbconvert_exporter": "python",
   "pygments_lexer": "ipython2",
   "version": "2.7.11"
  }
 },
 "nbformat": 4,
 "nbformat_minor": 0
}
